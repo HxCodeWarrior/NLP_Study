{
 "cells": [
  {
   "metadata": {},
   "cell_type": "markdown",
   "source": "## 首先定义一个Pytorch实现的神经网络",
   "id": "c1401f23731a329c"
  },
  {
   "metadata": {
    "ExecuteTime": {
     "end_time": "2024-07-23T13:21:50.412300Z",
     "start_time": "2024-07-23T13:21:48.606823Z"
    }
   },
   "cell_type": "code",
   "source": [
    "# 0.导入若干工具包\n",
    "import torch\n",
    "import torch.nn as nn\n",
    "import torch.nn.functional as F"
   ],
   "id": "254b3ed3b63e9d40",
   "outputs": [],
   "execution_count": 3
  },
  {
   "metadata": {
    "ExecuteTime": {
     "end_time": "2024-07-23T13:21:54.491493Z",
     "start_time": "2024-07-23T13:21:54.482457Z"
    }
   },
   "cell_type": "code",
   "source": [
    "# 1.定义一个简单的网络类\n",
    "class Net(nn.Module):\n",
    "    \n",
    "    def __init__(self):\n",
    "        \"\"\"\n",
    "        初始化函数\n",
    "        \"\"\"\n",
    "        super(Net, self).__init__()\n",
    "        # 定义第一层卷积神经网络，输入通道维度=1，输出通道维度=6，卷积核大小3*3\n",
    "        self.conv1 = nn.Conv2d(1, 6, 3)\n",
    "        # 定义第二层卷积神经网络，输入通道维度=6，输出通道维度=16，卷积核大小3*3\n",
    "        self.conv2 = nn.Conv2d(6, 16, 3)\n",
    "        # 定义第三层全连接网络\n",
    "        self.fc1 = nn.Linear(16 * 6 * 6, 120)   # 16*6*6为输入维度，120为最后神经元的维度\n",
    "        self.fc2 = nn.Linear(120, 84)\n",
    "        self.fc3 = nn.Linear(84, 10) # 10是因为最后有10分类\n",
    "    \n",
    "    def forward(self, x):\n",
    "        \"\"\"\n",
    "        前向传播函数\n",
    "        :param x: \n",
    "        :return: \n",
    "        注意：任意卷积层最后要加激活层，池化层\n",
    "        \"\"\"\n",
    "        # 在（2，2）的池化窗口下执行最大池化操作\n",
    "        x = F.max_pool2d(F.relu(self.conv1(x)), (2, 2)) # self.conv1()激活层，再经历2*2的池化层\n",
    "        x = F.max_pool2d(F.relu(self.conv2(x)), 2)\n",
    "        # 经过卷积层的处理后，张量要进入全连接层，进入先要调整张量的形状\n",
    "        x = x.view(-1, self.num_flat_features(x)) # 重新将三维的张量设置为二维\n",
    "        x = F.relu(self.fc1(x))\n",
    "        x = F.relu(self.fc2(x))\n",
    "        x = self.fc3(x)\n",
    "        return x\n",
    "        \n",
    "    def num_flat_features(self, x):\n",
    "        # 将三维张量的后两维设置为同一个维度\n",
    "        # 计算size，除了第0个维度上的batch_size\n",
    "        size = x.size()[1:] # x正常应该是三维的张量，我们取出后两维\n",
    "        num_features = 1\n",
    "        for s in size:\n",
    "            num_features *= s\n",
    "        return num_features"
   ],
   "id": "591fb710ffa7016d",
   "outputs": [],
   "execution_count": 4
  },
  {
   "metadata": {
    "ExecuteTime": {
     "end_time": "2024-07-23T13:21:56.090068Z",
     "start_time": "2024-07-23T13:21:56.070024Z"
    }
   },
   "cell_type": "code",
   "source": [
    "net = Net()\n",
    "print(net)"
   ],
   "id": "f6c32242deeb8df6",
   "outputs": [
    {
     "name": "stdout",
     "output_type": "stream",
     "text": [
      "Net(\n",
      "  (conv1): Conv2d(1, 6, kernel_size=(3, 3), stride=(1, 1))\n",
      "  (conv2): Conv2d(6, 16, kernel_size=(3, 3), stride=(1, 1))\n",
      "  (fc1): Linear(in_features=576, out_features=120, bias=True)\n",
      "  (fc2): Linear(in_features=120, out_features=84, bias=True)\n",
      "  (fc3): Linear(in_features=84, out_features=10, bias=True)\n",
      ")\n"
     ]
    },
    {
     "name": "stderr",
     "output_type": "stream",
     "text": [
      "\n",
      "A module that was compiled using NumPy 1.x cannot be run in\n",
      "NumPy 2.0.1 as it may crash. To support both 1.x and 2.x\n",
      "versions of NumPy, modules must be compiled with NumPy 2.0.\n",
      "Some module may need to rebuild instead e.g. with 'pybind11>=2.12'.\n",
      "\n",
      "If you are a user of the module, the easiest solution will be to\n",
      "downgrade to 'numpy<2' or try to upgrade the affected module.\n",
      "We expect that some modules will need time to support NumPy 2.\n",
      "\n",
      "Traceback (most recent call last):  File \"<frozen runpy>\", line 198, in _run_module_as_main\n",
      "  File \"<frozen runpy>\", line 88, in _run_code\n",
      "  File \"D:\\study\\AI\\NLP_Study\\Lib\\site-packages\\ipykernel_launcher.py\", line 18, in <module>\n",
      "    app.launch_new_instance()\n",
      "  File \"D:\\study\\AI\\NLP_Study\\Lib\\site-packages\\traitlets\\config\\application.py\", line 1075, in launch_instance\n",
      "    app.start()\n",
      "  File \"D:\\study\\AI\\NLP_Study\\Lib\\site-packages\\ipykernel\\kernelapp.py\", line 739, in start\n",
      "    self.io_loop.start()\n",
      "  File \"D:\\study\\AI\\NLP_Study\\Lib\\site-packages\\tornado\\platform\\asyncio.py\", line 205, in start\n",
      "    self.asyncio_loop.run_forever()\n",
      "  File \"C:\\Program Files (x86)\\Python\\Python312\\Lib\\asyncio\\base_events.py\", line 618, in run_forever\n",
      "    self._run_once()\n",
      "  File \"C:\\Program Files (x86)\\Python\\Python312\\Lib\\asyncio\\base_events.py\", line 1951, in _run_once\n",
      "    handle._run()\n",
      "  File \"C:\\Program Files (x86)\\Python\\Python312\\Lib\\asyncio\\events.py\", line 84, in _run\n",
      "    self._context.run(self._callback, *self._args)\n",
      "  File \"D:\\study\\AI\\NLP_Study\\Lib\\site-packages\\ipykernel\\kernelbase.py\", line 545, in dispatch_queue\n",
      "    await self.process_one()\n",
      "  File \"D:\\study\\AI\\NLP_Study\\Lib\\site-packages\\ipykernel\\kernelbase.py\", line 534, in process_one\n",
      "    await dispatch(*args)\n",
      "  File \"D:\\study\\AI\\NLP_Study\\Lib\\site-packages\\ipykernel\\kernelbase.py\", line 437, in dispatch_shell\n",
      "    await result\n",
      "  File \"D:\\study\\AI\\NLP_Study\\Lib\\site-packages\\ipykernel\\ipkernel.py\", line 362, in execute_request\n",
      "    await super().execute_request(stream, ident, parent)\n",
      "  File \"D:\\study\\AI\\NLP_Study\\Lib\\site-packages\\ipykernel\\kernelbase.py\", line 778, in execute_request\n",
      "    reply_content = await reply_content\n",
      "  File \"D:\\study\\AI\\NLP_Study\\Lib\\site-packages\\ipykernel\\ipkernel.py\", line 449, in do_execute\n",
      "    res = shell.run_cell(\n",
      "  File \"D:\\study\\AI\\NLP_Study\\Lib\\site-packages\\ipykernel\\zmqshell.py\", line 549, in run_cell\n",
      "    return super().run_cell(*args, **kwargs)\n",
      "  File \"D:\\study\\AI\\NLP_Study\\Lib\\site-packages\\IPython\\core\\interactiveshell.py\", line 3075, in run_cell\n",
      "    result = self._run_cell(\n",
      "  File \"D:\\study\\AI\\NLP_Study\\Lib\\site-packages\\IPython\\core\\interactiveshell.py\", line 3130, in _run_cell\n",
      "    result = runner(coro)\n",
      "  File \"D:\\study\\AI\\NLP_Study\\Lib\\site-packages\\IPython\\core\\async_helpers.py\", line 128, in _pseudo_sync_runner\n",
      "    coro.send(None)\n",
      "  File \"D:\\study\\AI\\NLP_Study\\Lib\\site-packages\\IPython\\core\\interactiveshell.py\", line 3334, in run_cell_async\n",
      "    has_raised = await self.run_ast_nodes(code_ast.body, cell_name,\n",
      "  File \"D:\\study\\AI\\NLP_Study\\Lib\\site-packages\\IPython\\core\\interactiveshell.py\", line 3517, in run_ast_nodes\n",
      "    if await self.run_code(code, result, async_=asy):\n",
      "  File \"D:\\study\\AI\\NLP_Study\\Lib\\site-packages\\IPython\\core\\interactiveshell.py\", line 3577, in run_code\n",
      "    exec(code_obj, self.user_global_ns, self.user_ns)\n",
      "  File \"C:\\Users\\张耀翔\\AppData\\Local\\Temp\\ipykernel_22672\\2358671269.py\", line 1, in <module>\n",
      "    net = Net()\n",
      "  File \"C:\\Users\\张耀翔\\AppData\\Local\\Temp\\ipykernel_22672\\3188555289.py\", line 10, in __init__\n",
      "    self.conv1 = nn.Conv2d(1, 6, 3)\n",
      "  File \"D:\\study\\AI\\NLP_Study\\Lib\\site-packages\\torch\\nn\\modules\\conv.py\", line 447, in __init__\n",
      "    super().__init__(\n",
      "  File \"D:\\study\\AI\\NLP_Study\\Lib\\site-packages\\torch\\nn\\modules\\conv.py\", line 141, in __init__\n",
      "    self.reset_parameters()\n",
      "  File \"D:\\study\\AI\\NLP_Study\\Lib\\site-packages\\torch\\nn\\modules\\conv.py\", line 147, in reset_parameters\n",
      "    init.kaiming_uniform_(self.weight, a=math.sqrt(5))\n",
      "  File \"D:\\study\\AI\\NLP_Study\\Lib\\site-packages\\torch\\nn\\init.py\", line 459, in kaiming_uniform_\n",
      "    return tensor.uniform_(-bound, bound, generator=generator)\n",
      "D:\\study\\AI\\NLP_Study\\Lib\\site-packages\\torch\\nn\\init.py:459: UserWarning: Failed to initialize NumPy: _ARRAY_API not found (Triggered internally at ..\\torch\\csrc\\utils\\tensor_numpy.cpp:84.)\n",
      "  return tensor.uniform_(-bound, bound, generator=generator)\n"
     ]
    }
   ],
   "execution_count": 5
  },
  {
   "metadata": {},
   "cell_type": "markdown",
   "source": "    注意：模型中所有可训练参数，可以通过net.parameters()来获得",
   "id": "e86901a5df965d3a"
  },
  {
   "metadata": {
    "ExecuteTime": {
     "end_time": "2024-07-23T13:24:39.610244Z",
     "start_time": "2024-07-23T13:24:39.605243Z"
    }
   },
   "cell_type": "code",
   "source": [
    "params = list(net.parameters())\n",
    "print(len(params))\n",
    "print(params[0].size())"
   ],
   "id": "f8190b8fa2cdc896",
   "outputs": [
    {
     "name": "stdout",
     "output_type": "stream",
     "text": [
      "10\n",
      "torch.Size([6, 1, 3, 3])\n"
     ]
    }
   ],
   "execution_count": 6
  },
  {
   "metadata": {},
   "cell_type": "markdown",
   "source": "    通过params[0].size()所获得的参数是第一层卷积神经网络的参数",
   "id": "92aeb21f4a452db1"
  },
  {
   "metadata": {
    "ExecuteTime": {
     "end_time": "2024-07-23T13:29:03.464751Z",
     "start_time": "2024-07-23T13:29:03.406790Z"
    }
   },
   "cell_type": "code",
   "source": [
    "input = torch.randn(1, 1, 32, 32)\n",
    "out = net(input)\n",
    "print(out)"
   ],
   "id": "2e7bf1935bb7ec43",
   "outputs": [
    {
     "name": "stdout",
     "output_type": "stream",
     "text": [
      "tensor([[ 0.0951, -0.0597,  0.0496,  0.0312,  0.0073,  0.0755,  0.1126, -0.0279,\n",
      "          0.1297,  0.1074]], grad_fn=<AddmmBackward0>)\n"
     ]
    }
   ],
   "execution_count": 7
  },
  {
   "metadata": {},
   "cell_type": "markdown",
   "source": "    所获得结果为一行十列，有了输出张量后，就可以执行梯度归零和反向传播的操作",
   "id": "1a2ed9d7beb8546a"
  },
  {
   "metadata": {
    "ExecuteTime": {
     "end_time": "2024-07-23T13:31:16.618661Z",
     "start_time": "2024-07-23T13:31:15.813115Z"
    }
   },
   "cell_type": "code",
   "source": [
    "# 反向传播之前：一定要执行梯度清零\n",
    "net.zero_grad()\n",
    "out.backward(torch.randn(1, 10))"
   ],
   "id": "e4c2e972f4e2e3db",
   "outputs": [],
   "execution_count": 8
  },
  {
   "metadata": {},
   "cell_type": "markdown",
   "source": [
    "    注意：\n",
    "        （1）torch.nn构建的神经网络支支持mini-batches的输入，不支持单一样本的输入\n",
    "        （2）比如：nn.Conv2d需要一个4DTensor，形状为（nSaples，nChannels，\n",
    "        Height，Width）。如果你的输入只有单一样本形式，则需要执行input.unsequeeze(0)，\n",
    "        主动将3DTensor扩充成4DTensor"
   ],
   "id": "760ecbd58d7d7ad4"
  }
 ],
 "metadata": {
  "kernelspec": {
   "display_name": "Python 3",
   "language": "python",
   "name": "python3"
  },
  "language_info": {
   "codemirror_mode": {
    "name": "ipython",
    "version": 2
   },
   "file_extension": ".py",
   "mimetype": "text/x-python",
   "name": "python",
   "nbconvert_exporter": "python",
   "pygments_lexer": "ipython2",
   "version": "2.7.6"
  }
 },
 "nbformat": 4,
 "nbformat_minor": 5
}
