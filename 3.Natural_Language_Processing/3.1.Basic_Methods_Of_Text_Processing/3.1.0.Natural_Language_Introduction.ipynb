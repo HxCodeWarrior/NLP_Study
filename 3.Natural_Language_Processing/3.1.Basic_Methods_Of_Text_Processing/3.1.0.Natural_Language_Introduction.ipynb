{
 "cells": [
  {
   "metadata": {},
   "cell_type": "markdown",
   "source": "## 自然语言基本处理介绍",
   "id": "c2a5c7f20af544c5"
  },
  {
   "metadata": {},
   "cell_type": "markdown",
   "source": [
    "    什么是自然语言处理：\n",
    "        自然语言处理（Natural Language Processing，简称NLP）是计算机科学与语言中\n",
    "        关注于计算机与人类语言间转换的领域"
   ],
   "id": "cf66d4c555e54a92"
  },
  {
   "metadata": {},
   "cell_type": "markdown",
   "source": "自然语言处理的发展简史",
   "id": "625ab7fdc94d3e1c"
  },
  {
   "metadata": {},
   "cell_type": "markdown",
   "source": [
    "    1950年：计算机科学之父图灵在论文中提出”机器可以思考吗“这一划时代的问题，\n",
    "           从此促成人类语言与计算机科学的交融。\n",
    "    1957-1970年：自然语言处理领域开始形成“两大阵营”，基于规则和基于统计\n",
    "    1994-1999年：基于统计的方法逐渐取得胜利，概率计算开始引入到NLP领域的每个任务中\n",
    "    2000-2000年：机器学习开始兴起，迅速占领了NLP的主流市场\n",
    "    2015~：人工智能时代到来，深度学习技术将深刻改变NLP未来"
   ],
   "id": "df15f31a5ef008a0"
  },
  {
   "metadata": {},
   "cell_type": "markdown",
   "source": "自然语言处理的应用场景",
   "id": "9df6054d523b3d67"
  },
  {
   "metadata": {},
   "cell_type": "markdown",
   "source": [
    "    语音助手\n",
    "    机器翻译\n",
    "    搜索引擎\n",
    "    智能问答\n",
    "    …………"
   ],
   "id": "9514e4dd9cb98ac3"
  },
  {
   "metadata": {},
   "cell_type": "markdown",
   "source": [
    "    语音助手：科大讯飞语音识别技术\n",
    "    机器翻译：CCTV上的机器翻译系统，让世界聊得来！"
   ],
   "id": "9a24536dd7354f62"
  },
  {
   "metadata": {},
   "cell_type": "markdown",
   "source": "本教程中的自然语言处理",
   "id": "a220b395ea79cba5"
  },
  {
   "metadata": {},
   "cell_type": "markdown",
   "source": [
    "    1、课程内容先进性说明：\n",
    "        本课程内容结合当下时代背景，更多关注NLP在深度学习领域的进展，这也将是未来几年\n",
    "        甚至几十年NLP的重要发展方向，简化NLP的内容，如语言规则、传统模型，特征工程等，\n",
    "        带来效果更好，应用更广的Transformer，迁移学习等先进内容\n",
    "    2、内容大纲概要：\n",
    "![jupyter](Class_content.png)"
   ],
   "id": "139bbd26520da0c9"
  }
 ],
 "metadata": {
  "kernelspec": {
   "display_name": "Python 3",
   "language": "python",
   "name": "python3"
  },
  "language_info": {
   "codemirror_mode": {
    "name": "ipython",
    "version": 2
   },
   "file_extension": ".py",
   "mimetype": "text/x-python",
   "name": "python",
   "nbconvert_exporter": "python",
   "pygments_lexer": "ipython2",
   "version": "2.7.6"
  }
 },
 "nbformat": 4,
 "nbformat_minor": 5
}
