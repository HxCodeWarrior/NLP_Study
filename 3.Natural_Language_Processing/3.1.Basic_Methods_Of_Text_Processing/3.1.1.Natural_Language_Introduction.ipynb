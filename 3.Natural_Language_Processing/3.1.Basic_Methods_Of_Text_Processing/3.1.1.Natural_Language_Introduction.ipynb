{
 "cells": [
  {
   "metadata": {},
   "cell_type": "markdown",
   "source": "## 自然语言基本处理介绍",
   "id": "c2a5c7f20af544c5"
  },
  {
   "metadata": {},
   "cell_type": "markdown",
   "source": [
    "    什么是自然语言处理：\n",
    "        自然语言处理（Natural Language Processing，简称NLP）是计算机科学与语言中\n",
    "        关注于计算机与人类语言间转换的领域"
   ],
   "id": "cf66d4c555e54a92"
  },
  {
   "metadata": {},
   "cell_type": "markdown",
   "source": "自然语言处理的发展简史",
   "id": "625ab7fdc94d3e1c"
  },
  {
   "metadata": {},
   "cell_type": "markdown",
   "source": [
    "    1950年：计算机科学之父图灵在论文中提出”机器可以思考吗“这一划时代的问题，\n",
    "           从此促成人类语言与计算机科学的交融。\n",
    "    1957-1970年：自然语言处理领域开始形成“两大阵营”，基于规则和基于统计\n",
    "    1994-1999年：基于统计的方法逐渐取得胜利，概率计算开始引入到NLP领域的每个任务中"
   ],
   "id": "df15f31a5ef008a0"
  }
 ],
 "metadata": {
  "kernelspec": {
   "display_name": "Python 3",
   "language": "python",
   "name": "python3"
  },
  "language_info": {
   "codemirror_mode": {
    "name": "ipython",
    "version": 2
   },
   "file_extension": ".py",
   "mimetype": "text/x-python",
   "name": "python",
   "nbconvert_exporter": "python",
   "pygments_lexer": "ipython2",
   "version": "2.7.6"
  }
 },
 "nbformat": 4,
 "nbformat_minor": 5
}
