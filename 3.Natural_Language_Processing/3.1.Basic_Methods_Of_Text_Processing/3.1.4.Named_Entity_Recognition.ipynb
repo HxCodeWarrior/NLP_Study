{
 "cells": [
  {
   "metadata": {},
   "cell_type": "markdown",
   "source": "## 命名实体识别",
   "id": "baa1ec67634b64fd"
  },
  {
   "metadata": {},
   "cell_type": "markdown",
   "source": "什么是命名实体识别",
   "id": "eb894bff2b5bc2df"
  },
  {
   "metadata": {},
   "cell_type": "markdown",
   "source": [
    "    命名实体：通常我们将人名、地名、机构名等专有名字统称命名实体\n",
    "    顾名思义：命名实体识别（Named Entity Recognition，简称NER）\n",
    "            就是识别出一段文本中可能存在的命名实体。"
   ],
   "id": "6955f50e5ec6e361"
  },
  {
   "metadata": {},
   "cell_type": "markdown",
   "source": [
    "    举个例子：\n",
    "        鲁迅，浙江绍兴人，五四新文化运动的重要领导者，代表作有朝花夕拾\n",
    "        =>\n",
    "        鲁迅（人名）/浙江绍兴（地名）人/五四新文化运动（专有名词）/重要参与者/代表作/朝花夕拾（专有名词）"
   ],
   "id": "eb20f8e478c89793"
  },
  {
   "metadata": {},
   "cell_type": "markdown",
   "source": "命名实体识别的作用",
   "id": "6f72759cf471bdab"
  },
  {
   "metadata": {},
   "cell_type": "markdown",
   "source": "    同词汇一样，命名实体也是人类理解文本的基础单元，因此也是AI解决NLP领域高阶任务的重要基础环节",
   "id": "8d06aa5c686743d5"
  },
  {
   "metadata": {},
   "cell_type": "markdown",
   "source": "使用hanlp进行中文命名实体识别",
   "id": "be72835b257613bc"
  },
  {
   "metadata": {},
   "cell_type": "code",
   "source": [
    "import hanlp\n",
    "# 加载中文命名实体识别的预训练模型MSRA_NER_BERT_BASE_ZH\n",
    "recognizer = hanlp.load(hanlp.pretrained.ner.MSRA_NER_BERT_BASE_ZH)\n",
    "# 注意：它的输入是对句子进行字符分割的列表，因此在句子前加入了list()\n",
    "content = list(\"上海华安工业（集团）公司董事长谭旭光和秘书长张婉霞来到美国纽约现代艺术博物馆参观。\")\n",
    "result = recognizer(content)\n",
    "print(result)"
   ],
   "id": "ebbf1d8ee50484e1",
   "outputs": [],
   "execution_count": null
  },
  {
   "metadata": {},
   "cell_type": "markdown",
   "source": [
    "    注意：返回结果是一个装有n个元组的列表，每个元组代表一个命名实体，\n",
    "         元组中的每一项分别代表具体的命名实体"
   ],
   "id": "6b0886a29141ff76"
  },
  {
   "metadata": {},
   "cell_type": "markdown",
   "source": "使用hanlp进行英文命名实体识别",
   "id": "d0b79f6dc5dbc723"
  },
  {
   "metadata": {},
   "cell_type": "code",
   "source": [
    "import hanlp\n",
    "recognizer = hanlp.load(hanlp.pretrained.ner.CONLL03_NER_BERT_BASE_CASED_EN)\n",
    "print(recognizer(['President','Obama','is','speaking','at','the','White','House']))"
   ],
   "id": "a0795ba262179e8a",
   "outputs": [],
   "execution_count": null
  },
  {
   "metadata": {},
   "cell_type": "markdown",
   "source": [
    "    注意：（1）它的输入是对句子进行分词后的结果，是列表的形式\n",
    "         （2）返回结果是一个装有n个元组的列表，每个元组代表一个命名实体，\n",
    "         元组中的每一项分别代表具体的命名实体"
   ],
   "id": "1f3d7e6d66c74770"
  }
 ],
 "metadata": {
  "kernelspec": {
   "display_name": "Python 3",
   "language": "python",
   "name": "python3"
  },
  "language_info": {
   "codemirror_mode": {
    "name": "ipython",
    "version": 2
   },
   "file_extension": ".py",
   "mimetype": "text/x-python",
   "name": "python",
   "nbconvert_exporter": "python",
   "pygments_lexer": "ipython2",
   "version": "2.7.6"
  }
 },
 "nbformat": 4,
 "nbformat_minor": 5
}
