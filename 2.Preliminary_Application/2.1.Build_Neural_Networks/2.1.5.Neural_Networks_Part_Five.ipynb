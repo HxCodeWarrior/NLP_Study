{
 "cells": [
  {
   "metadata": {},
   "cell_type": "markdown",
   "source": "小节总结",
   "id": "c170a69400e7735d"
  },
  {
   "metadata": {},
   "cell_type": "markdown",
   "source": [
    "    学习了构建一个神经网络的典型流程：\n",
    "        （1）定义一个拥有可学习参数的神经网络\n",
    "        （2）遍历训练数据集\n",
    "        （3）处理输入数据使其流经神经网络\n",
    "        （4）计算损失值\n",
    "        （5）将网络参数的梯度进行反向传播\n",
    "        （6）以一定的规则更新网络的权重\n",
    "    学习了损失函数的定义：\n",
    "        （1）采用torch.nn.MSELoss（）计算均方误差\n",
    "        （2）通过loss.backward（）进行反向传播计算时，整张计算图将对loss进行自动求\n",
    "            导，所有属性requires_grad=True的Tensors都将参与梯度求导的运算，并将\n",
    "            梯度累加到Tensors中的 .grad属性中。\n",
    "    学习了反向传播的计算方法：\n",
    "        （1）在Pytorch中执行反向传播非常简便，全部的操作就是loss.backward（）\n",
    "        （2）在执行反向传播之前，要先将梯度清零，否则梯度会在不同的批次数据之间被累加\n",
    "            （2.1）net.zero_grad()\n",
    "            （2.2）loss.backward（）\n",
    "    学习了参数的更新方法：\n",
    "        （1）定义优化器来执行参数的优化与更新\n",
    "            optimizer = optim.SGD（net.parameters()， ls=0.0.1）\n",
    "        （2）通过优化器来执行具体的参数更新\n",
    "            optimizer.step()"
   ],
   "id": "5004430ecc723481"
  }
 ],
 "metadata": {
  "kernelspec": {
   "display_name": "Python 3",
   "language": "python",
   "name": "python3"
  },
  "language_info": {
   "codemirror_mode": {
    "name": "ipython",
    "version": 2
   },
   "file_extension": ".py",
   "mimetype": "text/x-python",
   "name": "python",
   "nbconvert_exporter": "python",
   "pygments_lexer": "ipython2",
   "version": "2.7.6"
  }
 },
 "nbformat": 4,
 "nbformat_minor": 5
}
