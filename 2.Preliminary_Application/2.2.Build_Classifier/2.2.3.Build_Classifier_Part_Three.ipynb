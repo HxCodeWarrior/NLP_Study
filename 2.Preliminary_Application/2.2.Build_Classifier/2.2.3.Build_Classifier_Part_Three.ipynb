{
 "cells": [
  {
   "metadata": {},
   "cell_type": "markdown",
   "source": "## 定义损失函数",
   "id": "1a063166b2513bca"
  },
  {
   "metadata": {},
   "cell_type": "markdown",
   "source": "    采用交叉熵损失函数和随机梯度下降优化器",
   "id": "2d63d1da8002ba85"
  },
  {
   "metadata": {},
   "cell_type": "code",
   "outputs": [],
   "execution_count": null,
   "source": [
    "import torch.nn as nn\n",
    "import torch.optim as optim\n",
    "from Build_Classifier import Net\n",
    "\n",
    "net = Net()\n",
    "criterion = nn.CrossEntropyLoss()\n",
    "optimizer = optim.SGD(net.parameters(), lr=0.01, momentum=0.9)"
   ],
   "id": "405a3acab7d33bcf"
  }
 ],
 "metadata": {
  "kernelspec": {
   "display_name": "Python 3",
   "language": "python",
   "name": "python3"
  },
  "language_info": {
   "codemirror_mode": {
    "name": "ipython",
    "version": 2
   },
   "file_extension": ".py",
   "mimetype": "text/x-python",
   "name": "python",
   "nbconvert_exporter": "python",
   "pygments_lexer": "ipython2",
   "version": "2.7.6"
  }
 },
 "nbformat": 4,
 "nbformat_minor": 5
}
