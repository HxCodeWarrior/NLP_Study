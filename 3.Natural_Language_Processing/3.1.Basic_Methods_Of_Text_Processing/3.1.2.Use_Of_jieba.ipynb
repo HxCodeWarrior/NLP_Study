{
 "cells": [
  {
   "metadata": {},
   "cell_type": "markdown",
   "source": "## jieba的使用",
   "id": "47431a97a9d9d2b0"
  },
  {
   "metadata": {},
   "cell_type": "markdown",
   "source": "    安装：pip install jieba",
   "id": "48932af312bc85c9"
  },
  {
   "metadata": {},
   "cell_type": "markdown",
   "source": [
    "    jieba的使用：\n",
    "    （1）精确模式分词：试图将句子最精确地切开，适合文本分析\n",
    "    （2）全模式分词：把句子中所有地可以成词地词语都扫描出来，速度非常快，但是不能消除歧义\n",
    "    （3）搜索引擎模式分词：在精确模式的基础上，对长词再次切分，提高召回率，是用于搜索引擎分词\n",
    "    （4）中文繁体分词：针对中国香港，台湾地区的繁体字进行分词"
   ],
   "id": "133b404ea187021f"
  },
  {
   "metadata": {
    "ExecuteTime": {
     "end_time": "2024-07-24T13:43:52.616817Z",
     "start_time": "2024-07-24T13:43:52.609109Z"
    }
   },
   "cell_type": "code",
   "source": [
    "# 精确模式\n",
    "import jieba as jb\n",
    "\n",
    "content = \"工信处女干事每月经过下属科室都要亲口交代24口交换机等技术性器件地安装工作\"\n",
    "\n",
    "jb.cut(content, cut_all=False)  # cut_all默认为False,则表示精确模式切割\n",
    "# 将返回一个生成器对象\n",
    "\n",
    "# 若需直接返回列表内容，使用jieba.lcut即可\n",
    "result = jb.lcut(content, cut_all=False)\n",
    "print(result)"
   ],
   "id": "3a74bd358f861863",
   "outputs": [
    {
     "name": "stdout",
     "output_type": "stream",
     "text": [
      "['工信处', '女干事', '每月', '经过', '下属', '科室', '都', '要', '亲口', '交代', '24', '口', '交换机', '等', '技术性', '器件', '地', '安装', '工作']\n"
     ]
    }
   ],
   "execution_count": 2
  },
  {
   "metadata": {
    "ExecuteTime": {
     "end_time": "2024-07-24T13:47:03.376890Z",
     "start_time": "2024-07-24T13:47:03.369785Z"
    }
   },
   "cell_type": "code",
   "source": [
    "# 全模式分词\n",
    "import jieba as jb\n",
    "content = \"工信处女干事每月经过下属科室都要亲口交代24口交换机等技术性器件地安装工作\"\n",
    "result = jb.lcut(content, cut_all=True)\n",
    "print(result)"
   ],
   "id": "95753f56dbf270f8",
   "outputs": [
    {
     "name": "stdout",
     "output_type": "stream",
     "text": [
      "['工信处', '处女', '女干事', '干事', '每月', '月经', '经过', '下属', '科室', '都', '要', '亲口', '口交', '交代', '24', '口交', '交换', '交换机', '换机', '等', '技术', '技术性', '性器', '器件', '地', '安装', '安装工', '装工', '工作']\n"
     ]
    }
   ],
   "execution_count": 3
  },
  {
   "metadata": {
    "ExecuteTime": {
     "end_time": "2024-07-24T13:50:25.195389Z",
     "start_time": "2024-07-24T13:50:25.188749Z"
    }
   },
   "cell_type": "code",
   "source": [
    "# 搜索引擎模式分词\n",
    "import jieba as jb\n",
    "content = \"工信处女干事每月经过下属科室都要亲口交代24口交换机等技术性器件地安装工作\"\n",
    "result = jb.lcut_for_search(content)\n",
    "print(result)"
   ],
   "id": "cb98e69c0547761e",
   "outputs": [
    {
     "name": "stdout",
     "output_type": "stream",
     "text": [
      "['工信处', '干事', '女干事', '每月', '经过', '下属', '科室', '都', '要', '亲口', '交代', '24', '口', '交换', '换机', '交换机', '等', '技术', '技术性', '器件', '地', '安装', '工作']\n"
     ]
    }
   ],
   "execution_count": 5
  },
  {
   "metadata": {},
   "cell_type": "markdown",
   "source": "    结果分析：对“女干事”、“交换机”等较长词汇进行了再次分词",
   "id": "3054cd4cc664161d"
  },
  {
   "metadata": {},
   "cell_type": "code",
   "outputs": [],
   "execution_count": null,
   "source": [
    "# 中文繁体分词\n",
    "import jieba as jb\n",
    "content = \"工信處女幹事每月經過下屬科室都要親口交代24口交換機等技術性器件地安裝工作\"\n",
    "result = jb.lcut(content)\n",
    "print(result)"
   ],
   "id": "20ba47bae899262d"
  },
  {
   "metadata": {},
   "cell_type": "markdown",
   "source": [
    "    使用用户自定义词典：\n",
    "        （1）添加自定义词典后，jieba能够准确识别词典中出现的词汇，提升整体的识别准确率\n",
    "        （2）词典格式：每一行分三部分：词语、词频（可省略）、词性（可省略）\n",
    "                    用空格隔开，顺序不可颠倒\n",
    "        （3）词典样式如下，具体词性含义请参照俘虏：jieba词性对照表，将该词典存储为\n",
    "            userdict.txt，方便之后加载使用。\n",
    "    使用方法：\n",
    "        （1）第一步：jieba.load_userdict(file/path)   导入自定义词典\n",
    "        （2）第二步：jieba.funciton（）分词"
   ],
   "id": "b9720b0d401369c"
  },
  {
   "metadata": {},
   "cell_type": "markdown",
   "source": [
    "    云计算 5 n\n",
    "    服务器 6 nr\n",
    "    install 3 eng\n",
    "    好用 300\n",
    "    韩玉赏鉴 3 nz\n",
    "    八一双鹿 2 nz"
   ],
   "id": "53008b0e8915b71a"
  }
 ],
 "metadata": {
  "kernelspec": {
   "display_name": "Python 3",
   "language": "python",
   "name": "python3"
  },
  "language_info": {
   "codemirror_mode": {
    "name": "ipython",
    "version": 2
   },
   "file_extension": ".py",
   "mimetype": "text/x-python",
   "name": "python",
   "nbconvert_exporter": "python",
   "pygments_lexer": "ipython2",
   "version": "2.7.6"
  }
 },
 "nbformat": 4,
 "nbformat_minor": 5
}
