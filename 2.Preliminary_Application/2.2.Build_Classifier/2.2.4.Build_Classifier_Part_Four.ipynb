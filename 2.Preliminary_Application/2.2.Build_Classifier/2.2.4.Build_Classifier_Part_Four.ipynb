{
 "cells": [
  {
   "metadata": {},
   "cell_type": "markdown",
   "source": "## 在训练集上训练模型",
   "id": "1197bfc6a59f42fd"
  },
  {
   "metadata": {},
   "cell_type": "markdown",
   "source": "    采用基于梯度下降的优化算法，都需要很多个轮次的迭代训练",
   "id": "ba7ffb45d42c7878"
  },
  {
   "metadata": {},
   "cell_type": "code",
   "outputs": [],
   "execution_count": null,
   "source": [
    "import torch\n",
    "\n",
    "for epoch in range(2):  # loop over the dataset multiple times\n",
    "    running_loss = 0.0\n",
    "    for i, data in enumerate(trainloader, 0):\n",
    "        # data中包含有输出图像张量inputs，标签张量labels\n",
    "        input, label = data\n",
    "        # 首先将优化器梯度归零\n",
    "        optimizer.zero_grad()\n",
    "        # 输入图像张量进网络，得到输出张量outputs\n",
    "        outputs = net(inputs)\n",
    "        # 利用网络的输出outputs和标签labels计算损失\n",
    "        loss = criterizer(outputs, labels)\n",
    "        # 反向传播+参数更新，是标准代码的标准流程\n",
    "        loss.backward()\n",
    "        optimizer.step()\n",
    "        \n",
    "        # 打印轮次和损失值\n",
    "        running_loss += loss.item()\n",
    "        if (i+1) % 2000 == 0: # 有2000个批次，每隔2000个批次打印一次\n",
    "            print(\"[%d, %5d] loss: % .3f\" % \n",
    "                  (epoch + 1, i + 1, running_loss / 2000))  # epoch，i都是从0开始的，执行+1操作从1开始，loss每2000为一个批次\n",
    "            running_loss = 0.0\n",
    "print(\"Finished Training\")\n",
    "\n",
    "# 模型保存\n",
    "# 首先设定模型的保存路径\n",
    "PATH = './cifar_net.pth'\n",
    "# 保存模型的状态字典\n",
    "torch.save(net.state_dict(), PATH)"
   ],
   "id": "806d665f13ddaa0a"
  }
 ],
 "metadata": {
  "kernelspec": {
   "display_name": "Python 3",
   "language": "python",
   "name": "python3"
  },
  "language_info": {
   "codemirror_mode": {
    "name": "ipython",
    "version": 2
   },
   "file_extension": ".py",
   "mimetype": "text/x-python",
   "name": "python",
   "nbconvert_exporter": "python",
   "pygments_lexer": "ipython2",
   "version": "2.7.6"
  }
 },
 "nbformat": 4,
 "nbformat_minor": 5
}
