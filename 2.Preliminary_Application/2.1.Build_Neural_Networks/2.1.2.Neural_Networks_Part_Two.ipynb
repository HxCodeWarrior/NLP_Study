{
 "cells": [
  {
   "metadata": {},
   "cell_type": "markdown",
   "source": "## Loss Function 损失函数",
   "id": "e1844fd1f0ea1445"
  },
  {
   "metadata": {},
   "cell_type": "markdown",
   "source": [
    "    损失函数的输入是一个的pair：（output，target），然后计算一个数值来评估output和\n",
    "    target之间的差距大小。\n",
    "    在torch.nn中有若干不同的损失函数可供使用，比如：nn.MSELoss就是通过计算均方差损失\n",
    "    来评估输入和目标值之间的差距。"
   ],
   "id": "d4034831e0d22fd6"
  },
  {
   "metadata": {},
   "cell_type": "code",
   "source": [
    "import torch\n",
    "import torch.nn as nn\n",
    "from Neural_Networks import Net\n",
    "\n",
    "net = Net()\n",
    "print(net)\n",
    "input = torch.randn(1, 1, 32, 32)\n",
    "output = net(input)\n",
    "print(\"input:\\n\",input)\n",
    "print(\"output:\\n\",output)\n",
    "\n",
    "target = torch.randn(10)\n",
    "\n",
    "# 改变target的形状为二维张量，为了和output形状匹配\n",
    "target = target.view(1, -1)\n",
    "criterion = nn.MSELoss()\n",
    "loss = criterion(output, target)\n",
    "print(\"loss:\\n\",loss)"
   ],
   "id": "f36f107058132e5d",
   "outputs": [],
   "execution_count": null
  },
  {
   "metadata": {},
   "cell_type": "markdown",
   "source": [
    "    关于方向传播的链条：如果我们跟踪loss反向传播的方向，使用 .grad_fn属性打印，将可以\n",
    "    看到一张完整的计算如下图：\n",
    "    input -> conv2d -> relu -> maxpool2d -> conv2d -> relu -> maxpool2d\n",
    "          -> view -> linear -> relu -> linear -> relu -> linear\n",
    "          -> MSELoss\n",
    "          -> loss"
   ],
   "id": "e21268500eaeeab9"
  },
  {
   "metadata": {},
   "cell_type": "markdown",
   "source": [
    "    当调用loss.backward（）时，整张计算图将对loss进行自动求导，\n",
    "    所有属性requires_grad=True的Tensors都将参与梯度求导的运算，\n",
    "    并将梯度累加到Tensors中的 .grad属性中。"
   ],
   "id": "11253d6203de800a"
  },
  {
   "metadata": {},
   "cell_type": "code",
   "source": [
    "print(loss.grad_fn) # MSELoss\n",
    "print(loss.grad_fn.next_functions[0][0])    # Linear\n",
    "print(loss.grad_fn.next_functions[0][0].next_functions[0][0])   # ReLU"
   ],
   "id": "c98b5c3a0b7d5bd3",
   "outputs": [],
   "execution_count": null
  },
  {
   "metadata": {},
   "cell_type": "code",
   "outputs": [],
   "execution_count": null,
   "source": "",
   "id": "ceea5a31ed02a2fd"
  }
 ],
 "metadata": {
  "kernelspec": {
   "display_name": "Python 3",
   "language": "python",
   "name": "python3"
  },
  "language_info": {
   "codemirror_mode": {
    "name": "ipython",
    "version": 2
   },
   "file_extension": ".py",
   "mimetype": "text/x-python",
   "name": "python",
   "nbconvert_exporter": "python",
   "pygments_lexer": "ipython2",
   "version": "2.7.6"
  }
 },
 "nbformat": 4,
 "nbformat_minor": 5
}
