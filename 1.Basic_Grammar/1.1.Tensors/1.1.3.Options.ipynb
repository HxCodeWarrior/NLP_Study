{
 "cells": [
  {
   "metadata": {},
   "cell_type": "markdown",
   "source": "## 张量的操作",
   "id": "7b39accc2d5cb77d"
  },
  {
   "metadata": {},
   "cell_type": "markdown",
   "source": "    在接下来的内容中，我们将介绍几种常见的张量的操作方法",
   "id": "af1905a78e3a4e5"
  },
  {
   "metadata": {},
   "cell_type": "markdown",
   "source": "1.加法操作",
   "id": "346c32b55cd11c6d"
  },
  {
   "metadata": {},
   "cell_type": "markdown",
   "source": [
    "    （1）方式1：result = torch.rand(m, n)\n",
    "    （2）方式2：result = troch.add(m, n)\n",
    "    （3）方式3：m.add_(n)\n",
    "    注意：方式3的返回值为Tensor m与n的加和结果重新赋值m"
   ],
   "id": "7dfeb50f027e9748"
  },
  {
   "metadata": {
    "ExecuteTime": {
     "end_time": "2024-07-22T13:55:24.833569Z",
     "start_time": "2024-07-22T13:55:24.826541Z"
    }
   },
   "cell_type": "code",
   "source": [
    "import torch\n",
    "\n",
    "x = torch.rand(5, 3)\n",
    "y = torch.rand(5, 3)\n",
    "print(x)\n",
    "print(y)\n",
    "\n",
    "print(\"{}\".format('*'*25))\n",
    "\n",
    "# Method-one\n",
    "result1 = x + y\n",
    "# Method-twoo\n",
    "result2 = torch.add(x, y)\n",
    "# Method-three\n",
    "y.add_(x)\n",
    "\n",
    "print(result1)\n",
    "print(result2)\n",
    "print(y)"
   ],
   "id": "5b096f87a396ae9a",
   "outputs": [
    {
     "name": "stdout",
     "output_type": "stream",
     "text": [
      "tensor([[0.2156, 0.5215, 0.4074],\n",
      "        [0.3610, 0.6432, 0.6810],\n",
      "        [0.7181, 0.4257, 0.6408],\n",
      "        [0.9716, 0.0120, 0.9080],\n",
      "        [0.5062, 0.4452, 0.5327]])\n",
      "tensor([[0.6336, 0.6906, 0.1481],\n",
      "        [0.4738, 0.9313, 0.3372],\n",
      "        [0.6944, 0.9710, 0.2978],\n",
      "        [0.3384, 0.0227, 0.4610],\n",
      "        [0.1008, 0.3512, 0.7358]])\n",
      "*************************\n",
      "tensor([[0.8493, 1.2122, 0.5555],\n",
      "        [0.8349, 1.5746, 1.0183],\n",
      "        [1.4124, 1.3967, 0.9386],\n",
      "        [1.3101, 0.0347, 1.3690],\n",
      "        [0.6070, 0.7965, 1.2685]])\n",
      "tensor([[0.8493, 1.2122, 0.5555],\n",
      "        [0.8349, 1.5746, 1.0183],\n",
      "        [1.4124, 1.3967, 0.9386],\n",
      "        [1.3101, 0.0347, 1.3690],\n",
      "        [0.6070, 0.7965, 1.2685]])\n",
      "tensor([[0.8493, 1.2122, 0.5555],\n",
      "        [0.8349, 1.5746, 1.0183],\n",
      "        [1.4124, 1.3967, 0.9386],\n",
      "        [1.3101, 0.0347, 1.3690],\n",
      "        [0.6070, 0.7965, 1.2685]])\n"
     ]
    }
   ],
   "execution_count": 6
  },
  {
   "metadata": {},
   "cell_type": "markdown",
   "source": "2.索引操作",
   "id": "af0b1b0dd35fd087"
  },
  {
   "metadata": {},
   "cell_type": "markdown",
   "source": [
    "    需要注意的是：所以出来的结果与原数据共享内存，修改一个，另一个会跟着修改。\n",
    "    如果不想修改，可以考虑使用copy()等方法"
   ],
   "id": "1dca74bd562c6630"
  },
  {
   "metadata": {
    "ExecuteTime": {
     "end_time": "2024-07-22T13:57:45.593111Z",
     "start_time": "2024-07-22T13:57:45.588893Z"
    }
   },
   "cell_type": "code",
   "source": [
    "import torch\n",
    "x = torch.rand(4,3)\n",
    "print(x)\n",
    "# 取出第二列\n",
    "print(x[:, 1])"
   ],
   "id": "d1d9d088a39cb955",
   "outputs": [
    {
     "name": "stdout",
     "output_type": "stream",
     "text": [
      "tensor([[0.2113, 0.8953, 0.3662],\n",
      "        [0.6028, 0.7400, 0.1179],\n",
      "        [0.1867, 0.1861, 0.0493],\n",
      "        [0.6204, 0.3651, 0.7880]])\n",
      "tensor([0.8953, 0.7400, 0.1861, 0.3651])\n"
     ]
    }
   ],
   "execution_count": 8
  },
  {
   "metadata": {
    "ExecuteTime": {
     "end_time": "2024-07-22T13:58:41.345600Z",
     "start_time": "2024-07-22T13:58:41.338540Z"
    }
   },
   "cell_type": "code",
   "source": [
    "y = x[0, :]\n",
    "y += 1\n",
    "print(y)\n",
    "print(x[0, :])"
   ],
   "id": "26c7a9048b2bdeac",
   "outputs": [
    {
     "name": "stdout",
     "output_type": "stream",
     "text": [
      "tensor([1.2113, 1.8953, 1.3662])\n",
      "tensor([1.2113, 1.8953, 1.3662])\n"
     ]
    }
   ],
   "execution_count": 9
  },
  {
   "metadata": {},
   "cell_type": "markdown",
   "source": "3.维度变换",
   "id": "2edc6a1ededc32bb"
  },
  {
   "metadata": {},
   "cell_type": "markdown",
   "source": [
    "    维度变换常见的方法有：torch.view()和torch.reshape()，\n",
    "    方法一：torch.view()\n",
    "    注意：torch.view()返回的新tensor与源tensor共享内存（其实是同一个tensor），更\n",
    "    改其中的一个，另外一个也会跟着改变（顾名思义，view()仅仅是改变了对这个张量的观察角度。）"
   ],
   "id": "ece603fb828d5892"
  },
  {
   "metadata": {
    "ExecuteTime": {
     "end_time": "2024-07-22T14:08:37.617867Z",
     "start_time": "2024-07-22T14:08:37.613233Z"
    }
   },
   "cell_type": "code",
   "source": [
    "import torch\n",
    "\n",
    "x = torch.randn(4,4)\n",
    "y = x.view(16)\n",
    "z = x.view(-1, 8)   # -1是指这一维的维数由其他的维度决定\n",
    "\n",
    "print(x.size(), y.size(), z.size())"
   ],
   "id": "b0123c36f4a45e8a",
   "outputs": [
    {
     "name": "stdout",
     "output_type": "stream",
     "text": [
      "torch.Size([4, 4]) torch.Size([16]) torch.Size([2, 8])\n"
     ]
    }
   ],
   "execution_count": 11
  },
  {
   "metadata": {
    "ExecuteTime": {
     "end_time": "2024-07-22T14:11:44.472540Z",
     "start_time": "2024-07-22T14:11:44.467387Z"
    }
   },
   "cell_type": "code",
   "source": [
    "x += 1\n",
    "print(x)\n",
    "print(y)"
   ],
   "id": "b68a077ddd0f659c",
   "outputs": [
    {
     "name": "stdout",
     "output_type": "stream",
     "text": [
      "tensor([[ 1.8338,  0.6893,  0.8936,  2.4812],\n",
      "        [ 0.9748,  0.3209,  0.7328,  1.1892],\n",
      "        [ 1.2749, -0.3591,  2.7221,  1.0204],\n",
      "        [ 1.2666,  1.5340, -0.3581,  0.6846]])\n",
      "tensor([ 1.8338,  0.6893,  0.8936,  2.4812,  0.9748,  0.3209,  0.7328,  1.1892,\n",
      "         1.2749, -0.3591,  2.7221,  1.0204,  1.2666,  1.5340, -0.3581,  0.6846])\n"
     ]
    }
   ],
   "execution_count": 12
  },
  {
   "metadata": {},
   "cell_type": "markdown",
   "source": [
    "    面我们说过torch.view()会改变原始张量，但是很多情况下，我们希望原始张量和变换后的\n",
    "    张量互相不影响。为为了使创建的张量和原始张量不共享内存，我们需要使用第二种方法\n",
    "    torch.reshape()， 同样可以改变张量的形状，但是此函数并不能保证返回的是其拷贝值，\n",
    "    所以官方不推荐使用。"
   ],
   "id": "ece8de8faab59e21"
  },
  {
   "metadata": {},
   "cell_type": "markdown",
   "source": "    推荐的方法是我们先用 clone() 创造一个张量副本然后再使用 torch.view()进行函数维度变换 。",
   "id": "f54502cc6ab6ca52"
  },
  {
   "metadata": {},
   "cell_type": "markdown",
   "source": [
    "    注：使用 clone() 还有一个好处是会被记录在计算图中，即梯度回传到副本时也会传到源 \n",
    "    Tensor 。 3. 取值操作 如果我们有一个元素 tensor ，我们可以使用 .item() 来获得\n",
    "    这个 value，而不获得其他性质："
   ],
   "id": "d1339ade7b9fd58a"
  },
  {
   "metadata": {
    "ExecuteTime": {
     "end_time": "2024-07-22T14:14:17.980947Z",
     "start_time": "2024-07-22T14:14:17.976655Z"
    }
   },
   "cell_type": "code",
   "source": [
    "import torch \n",
    "x = torch.randn(1)\n",
    "print(type(x))\n",
    "print(type(x.item()))   # 注意：item（）只能访问含有一个元素的张量，如果被访问的张量有超过一个元素就会报错"
   ],
   "id": "e6058cef14fa99fb",
   "outputs": [
    {
     "name": "stdout",
     "output_type": "stream",
     "text": [
      "<class 'torch.Tensor'>\n",
      "<class 'float'>\n"
     ]
    }
   ],
   "execution_count": 13
  },
  {
   "metadata": {},
   "cell_type": "code",
   "outputs": [],
   "execution_count": null,
   "source": "",
   "id": "5d57960267a67b75"
  }
 ],
 "metadata": {
  "kernelspec": {
   "display_name": "Python 3",
   "language": "python",
   "name": "python3"
  },
  "language_info": {
   "codemirror_mode": {
    "name": "ipython",
    "version": 2
   },
   "file_extension": ".py",
   "mimetype": "text/x-python",
   "name": "python",
   "nbconvert_exporter": "python",
   "pygments_lexer": "ipython2",
   "version": "2.7.6"
  }
 },
 "nbformat": 4,
 "nbformat_minor": 5
}
