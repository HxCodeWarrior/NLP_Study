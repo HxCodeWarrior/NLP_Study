{
 "cells": [
  {
   "metadata": {},
   "cell_type": "markdown",
   "source": "## 认识Pytorch",
   "id": "9ddfb7cf12128e42"
  },
  {
   "metadata": {},
   "cell_type": "markdown",
   "source": [
    "    学习目标\n",
    "        了解什么是Pytorch\n",
    "        掌握Pytorch的基本元素操作\n",
    "        掌握Pytorch的基本运算操作"
   ],
   "id": "a86225f8706c5ea5"
  },
  {
   "metadata": {},
   "cell_type": "markdown",
   "source": "什么是Pytorch",
   "id": "262d74fe0a439928"
  },
  {
   "metadata": {},
   "cell_type": "markdown",
   "source": [
    "    Pytorch是一个基于Numpy的科学计算包，向他的使用提供两大功能：\n",
    "        作为Numpy的替代者，向用户提供使用GPU强大功能的能力\n",
    "        作为一款深度学习的平台，向用户提供最大的灵活性和速度"
   ],
   "id": "a8839dd8fbd6b821"
  },
  {
   "metadata": {},
   "cell_type": "markdown",
   "source": "Pytorch的基本元素操作",
   "id": "e75edaf0c4f3ac88"
  },
  {
   "metadata": {},
   "cell_type": "markdown",
   "source": [
    "    Tensors张量：张量的概念类似于Numpy中的ndarray数据结构，最大的区别在于Tensor可\n",
    "                以利用GPU加速功能。\n",
    "    我们使用Pytorch的时候，常规步骤是先将torch引用进来，如下所示："
   ],
   "id": "bbe945e02d3e0a8b"
  },
  {
   "metadata": {},
   "cell_type": "code",
   "outputs": [],
   "execution_count": null,
   "source": [
    "from __future__ import print_function\n",
    "import torch"
   ],
   "id": "7253616dd2cbc9a7"
  }
 ],
 "metadata": {
  "kernelspec": {
   "display_name": "Python 3",
   "language": "python",
   "name": "python3"
  },
  "language_info": {
   "codemirror_mode": {
    "name": "ipython",
    "version": 2
   },
   "file_extension": ".py",
   "mimetype": "text/x-python",
   "name": "python",
   "nbconvert_exporter": "python",
   "pygments_lexer": "ipython2",
   "version": "2.7.6"
  }
 },
 "nbformat": 4,
 "nbformat_minor": 5
}
