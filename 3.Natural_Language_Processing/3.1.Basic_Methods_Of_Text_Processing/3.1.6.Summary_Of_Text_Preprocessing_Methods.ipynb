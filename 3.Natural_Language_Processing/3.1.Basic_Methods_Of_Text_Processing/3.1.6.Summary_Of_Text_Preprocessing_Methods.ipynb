{
 "cells": [
  {
   "metadata": {},
   "cell_type": "markdown",
   "source": "## 文本预处理方法总结",
   "id": "f3d6bbb354ba0299"
  },
  {
   "metadata": {},
   "cell_type": "markdown",
   "source": "学习了什么是分词",
   "id": "348f436d3082950f"
  },
  {
   "metadata": {},
   "cell_type": "markdown",
   "source": [
    "    分词就是将连续的字序列按照一定的规范重新组合成词序列的过程。我们知道，在英文的行文中，\n",
    "    单词之间是以空格作为自然分界符，而中文知识字、句和段能通过明显的分界符来进行简单的划分，\n",
    "    唯独词没有一个形式上的分界符，分词过程就是找到这样分界符的过程。"
   ],
   "id": "805de3cfb273858"
  },
  {
   "metadata": {},
   "cell_type": "markdown",
   "source": "学习了分词的作用",
   "id": "6ebf7ab7980fea2c"
  },
  {
   "metadata": {},
   "cell_type": "markdown",
   "source": [
    "    词作为语言语义理解的最小单元，是人类理解文本语言的基础，因此也是AI解决NLP领域高阶任务，\n",
    "    如自动问答，机器翻译，文本生成的重要基础环节"
   ],
   "id": "5f75205ff5842365"
  },
  {
   "metadata": {},
   "cell_type": "markdown",
   "source": "学习了流行中文分词工具jieba",
   "id": "e2662a8f7beb8c9"
  },
  {
   "metadata": {},
   "cell_type": "markdown",
   "source": [
    "    支持多种分词模式：精确模式、全模式、搜索引擎模式\n",
    "    支持中文繁体分词\n",
    "    支持用户自定义词典"
   ],
   "id": "f4e0c234ae53e5f9"
  },
  {
   "metadata": {},
   "cell_type": "markdown",
   "source": "学习了jieba工具的安装和分词的使用",
   "id": "b5e85022cafba0de"
  },
  {
   "metadata": {},
   "cell_type": "markdown",
   "source": "学习了流行的中英文分词工具hanlp及其安装和分词使用",
   "id": "165cc9ebcf96312b"
  },
  {
   "metadata": {},
   "cell_type": "markdown",
   "source": "学习了什么是命名实体识别",
   "id": "10f7abe1a18a3071"
  },
  {
   "metadata": {},
   "cell_type": "markdown",
   "source": [
    "    命名实体：通常我们将人名、地名、机构名等专有名词统称命名实体\n",
    "    顾名思义：命名实体识别（Named Entity Recognition，简称NER）\n",
    "            就是识别出一段文本中可能存在的命名实体"
   ],
   "id": "170b078f61800bbe"
  },
  {
   "metadata": {},
   "cell_type": "markdown",
   "source": "学习了命名实体识别的作用",
   "id": "6ce63d14300c715a"
  },
  {
   "metadata": {},
   "cell_type": "markdown",
   "source": "    同词汇一样，命名实体也是人类理解文本的基础单元，因此也是AI解决NLP领域高阶任务的重要基础环节。",
   "id": "a8167c34430919c7"
  },
  {
   "metadata": {},
   "cell_type": "markdown",
   "source": "学习了hanlp进行命名实体识别",
   "id": "848a681879aefb60"
  },
  {
   "metadata": {},
   "cell_type": "markdown",
   "source": "学习了什么是词性标注",
   "id": "d77c563fbf3030a"
  },
  {
   "metadata": {},
   "cell_type": "markdown",
   "source": [
    "    词性：语言中对词的一种分类方法，以语法特征为主要依据、兼顾词汇意义对词进行划分的结果，\n",
    "         常见的词性有14种，如：动词、名词、形容词、副词等等\n",
    "    顾名思义：词性标注（Part-of-Speech tagging，简称POS）\n",
    "            就是标注出一段文本中每个词汇的词性"
   ],
   "id": "80168f874b7a88d4"
  },
  {
   "metadata": {},
   "cell_type": "markdown",
   "source": "学习了词性标注的作用",
   "id": "70fc5df056f10e7"
  },
  {
   "metadata": {},
   "cell_type": "markdown",
   "source": [
    "    词性标注以分词为基础，是对文本呢语言的另一个角度的理解，因此也常常称为AI解决NLP领域\n",
    "    高阶任务的重要基础环节"
   ],
   "id": "1abb5528005f5635"
  },
  {
   "metadata": {},
   "cell_type": "markdown",
   "source": "学习了使用jieba和hanlp进行词性标注",
   "id": "6a91568aa7c81817"
  }
 ],
 "metadata": {
  "kernelspec": {
   "display_name": "Python 3",
   "language": "python",
   "name": "python3"
  },
  "language_info": {
   "codemirror_mode": {
    "name": "ipython",
    "version": 2
   },
   "file_extension": ".py",
   "mimetype": "text/x-python",
   "name": "python",
   "nbconvert_exporter": "python",
   "pygments_lexer": "ipython2",
   "version": "2.7.6"
  }
 },
 "nbformat": 4,
 "nbformat_minor": 5
}
