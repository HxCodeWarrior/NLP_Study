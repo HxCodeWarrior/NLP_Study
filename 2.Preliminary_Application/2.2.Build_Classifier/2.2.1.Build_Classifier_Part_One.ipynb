{
 "cells": [
  {
   "cell_type": "code",
   "id": "initial_id",
   "metadata": {
    "collapsed": true,
    "ExecuteTime": {
     "end_time": "2024-07-24T02:00:29.166771Z",
     "start_time": "2024-07-24T02:00:25.429012Z"
    }
   },
   "source": [
    "# 0.导入torchvision包来辅助下载数据集\n",
    "import torch\n",
    "import torchvision\n",
    "import torchvision.transforms as transforms"
   ],
   "outputs": [],
   "execution_count": 1
  },
  {
   "metadata": {},
   "cell_type": "markdown",
   "source": [
    "    下在数据集并对图片进行调整，因为torchvision数据集的输出式PILImage格式\n",
    "    数据域在[0,1]，我们将其转换为标准的数据域[-1,1]的张量格式"
   ],
   "id": "acb04456085fc210"
  },
  {
   "metadata": {},
   "cell_type": "code",
   "outputs": [],
   "execution_count": null,
   "source": [
    "transform = transforms.Compose(\n",
    "    [transforms.ToTensor(),\n",
    "     transforms.Normalize((0.5,0.5,0.5),(0.5,0.5,0.5))]\n",
    ")\n",
    "trainset = torchvision.datasets.CIFAR10(root=\"./data\", train=True, download=True, transform=transform)\n",
    "\n",
    "trainloder = torch.utils.data.DataLoader(trainset,batch_size=4,shuffle=True,num_workers=2)\n",
    "\n",
    "testset = torchvision.datasets.CIFAR10(root=\"./data\",train=False, download=True,transform=transform)\n",
    "\n",
    "testloder = torch.utils.data.DataLoader(testset, batch_size=4,shuffle=False,num_workers=2)\n",
    "\n",
    "classes = ('plane','car','bird','cat','deer','dog','forg','horse','ship','truck')"
   ],
   "id": "2c2ff6ee6f518cc5"
  },
  {
   "metadata": {},
   "cell_type": "markdown",
   "source": "## 代码解读",
   "id": "78a3e6d4e2f8f3a3"
  },
  {
   "metadata": {},
   "cell_type": "markdown",
   "source": [
    "    transform = transforms.Compose(\n",
    "    [transforms.ToTensor(),\n",
    "     transforms.Normalize((0.5,0.5,0.5),(0.5,0.5,0.5))])\n",
    "     \n",
    "    transforms.ToTensor()，将目标数据转换为Tensor类型\n",
    "    transforms.Noemalize((0.5,0.5,0.5),(0.5,0.5,0.5)),将源数据域转换为[-1,1]形式的张量"
   ],
   "id": "96a8bc26689fc9b4"
  },
  {
   "metadata": {},
   "cell_type": "markdown",
   "source": [
    "    trainset = torchvision.datasets.CIFAR10(root=\"./data\", train=True, \n",
    "    download=True, transform=transform)\n",
    "    \n",
    "    trainset：训练集\n",
    "    torchvision.datasets.CIFAR10：使用这个函数下载CIFAR10数据\n",
    "    root：数据保存地址\n",
    "    train：所下载的数据集是否为训练集\n",
    "    download：是否下载\n",
    "    transform：转换方式"
   ],
   "id": "230869d48fbc9006"
  },
  {
   "metadata": {},
   "cell_type": "markdown",
   "source": [
    "    trainloder = torch.utils.data.DataLoader(trainset,batch_size=4,\n",
    "    shuffle=True,num_workers=2)\n",
    "    \n",
    "    目的：将数据封装为DataLoader\n",
    "    转换目标：trainset\n",
    "    batch_size：一次读取转换的数据量\n",
    "    shuffle：数据是否被打乱\n",
    "    num_workers:运行线程数"
   ],
   "id": "93392c1a3fccaf90"
  },
  {
   "metadata": {},
   "cell_type": "markdown",
   "source": [
    "    注意：如果是在Windows系统下运行上述代码，并且出现了报错信息“BrokenPipeError“，\n",
    "    可以尝试将torch.utils.data.DataLoader()中的num_workers设置为0"
   ],
   "id": "8fc3c87f2739ef95"
  },
  {
   "metadata": {},
   "cell_type": "code",
   "outputs": [],
   "execution_count": null,
   "source": [
    "# 展示若干图片\n",
    "import matplotlib.pyplot as plt\n",
    "import numpy as np\n",
    "\n",
    "# 构建展示图片的函数：\n",
    "def imshow(img):\n",
    "    img = img / 2 + 0.5\n",
    "    nping = img.numpy() # 注意img类型是Tensor类型，要将其转换为numpy类型\n",
    "    plt.imshow(np.transpose(nping, (1,2,0)))\n",
    "    plt.show()\n",
    "\n",
    "# 从数据迭代器中读取一张图\n",
    "dataiter = iter(trainloder)\n",
    "images, labels = dataiter.next()\n",
    "\n",
    "# 展示图片\n",
    "imshow(torchvision.utils.make_grid(images))\n",
    "# 打印标签label\n",
    "print(' '.join('%5s' % classes[labels[j]] for j in range(4)))"
   ],
   "id": "7c60526a880aab7"
  }
 ],
 "metadata": {
  "kernelspec": {
   "display_name": "Python 3",
   "language": "python",
   "name": "python3"
  },
  "language_info": {
   "codemirror_mode": {
    "name": "ipython",
    "version": 2
   },
   "file_extension": ".py",
   "mimetype": "text/x-python",
   "name": "python",
   "nbconvert_exporter": "python",
   "pygments_lexer": "ipython2",
   "version": "2.7.6"
  }
 },
 "nbformat": 4,
 "nbformat_minor": 5
}
