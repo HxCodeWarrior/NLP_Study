{
 "cells": [
  {
   "metadata": {},
   "cell_type": "markdown",
   "source": "## 在GPU上训练模型",
   "id": "b38a64be94992ba9"
  },
  {
   "metadata": {},
   "cell_type": "markdown",
   "source": "    为了真正利用Pytorch中Tensor的优秀属性，加速模型的训练，我们可以将训练过程转移到GPU上进行",
   "id": "66b5c48683753b59"
  },
  {
   "metadata": {},
   "cell_type": "code",
   "outputs": [],
   "execution_count": null,
   "source": [
    "import torch\n",
    "\n",
    "# 首先要定义设备，如果CUDA是可用的则被定义成GPU，否则被定义为CPU\n",
    "device = torch.device(\"cuda:0\" if torch.cuda.is_available() else \"cpu\")\n",
    "print(device)"
   ],
   "id": "c30636a4d91eeb24"
  },
  {
   "metadata": {},
   "cell_type": "markdown",
   "source": "    当训练模型的时候，只需要将模型转移到GPU上，同时输入的图片和标签页转移到GPU上即可",
   "id": "8412b937fce6b29f"
  },
  {
   "metadata": {},
   "cell_type": "code",
   "outputs": [],
   "execution_count": null,
   "source": [
    "# 将模型转移到GPU上\n",
    "net.to(device)\n",
    "\n",
    "# 将输入的图片张量和标签张量转移到GPU上\n",
    "inputs, labels = data[0].to(device),data[1].to(device)"
   ],
   "id": "d9b1399355a8f266"
  }
 ],
 "metadata": {
  "kernelspec": {
   "display_name": "Python 3",
   "language": "python",
   "name": "python3"
  },
  "language_info": {
   "codemirror_mode": {
    "name": "ipython",
    "version": 2
   },
   "file_extension": ".py",
   "mimetype": "text/x-python",
   "name": "python",
   "nbconvert_exporter": "python",
   "pygments_lexer": "ipython2",
   "version": "2.7.6"
  }
 },
 "nbformat": 4,
 "nbformat_minor": 5
}
