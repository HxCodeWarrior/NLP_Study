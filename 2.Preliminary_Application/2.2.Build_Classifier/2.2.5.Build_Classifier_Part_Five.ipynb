{
 "cells": [
  {
   "metadata": {},
   "cell_type": "markdown",
   "source": "## 模型测试——在测试集上测试模型",
   "id": "5c78d431f851590e"
  },
  {
   "metadata": {},
   "cell_type": "code",
   "outputs": [],
   "execution_count": null,
   "source": [
    "# 5.1.展示测试集中的若干图片\n",
    "dataiter = iter(testloader) # 构建一个迭代器\n",
    "images, labels = next(dataiter)\n",
    "# 打印原始图片\n",
    "imshow(torchvision.utils.make_grid(images))\n",
    "# 打印真实标签\n",
    "print(\"GroundTruth:\", \" \".join('%5s' % classes[labels[j]] for j in rnage(4)))\n",
    "\n",
    "# 5.2.加载模型并对模型进行预测\n",
    "# 首先实例化模型的对象\n",
    "net = Net()\n",
    "# 加载训练阶段保存的模型状态字典\n",
    "net.load_state_dict(torch.load(PATH))\n",
    "# 利用模型对图片进行预测\n",
    "output = net(images)\n",
    "# 共有10个类别，采用模型计算出的概率最大的作为预测的类别\n",
    "_, predicted = torch.max(output, 1)\n",
    "# 打印预测标签的结果\n",
    "print(\"Predicted:\", \" \".join('%5s' % classes[predicted[j]] for j in rnage(4)))"
   ],
   "id": "af14c2253719ae8c"
  },
  {
   "metadata": {},
   "cell_type": "code",
   "outputs": [],
   "execution_count": null,
   "source": [
    "# 接下来看一下在全部测试集上的表现\n",
    "correct = 0\n",
    "total = 0\n",
    "with torch.no_grad():   # 在测试阶段；不进行反向传播，不执行自动梯度求导——》固定参数不变\n",
    "    for data in testloader:\n",
    "        images, labels = data\n",
    "        outputs = net(images)\n",
    "        _, predicted = torch.max(outputs.data, 1)\n",
    "        total += labels.size(0) # labels.size(0)相当于4，因为在前面已经进行设置\n",
    "        correct += (predicted == labels).sum().item()\n",
    "print('Accuracy of the network on the 10000 test images:%d %%' %(100*correct/total))\n"
   ],
   "id": "e4f96f6c8efd767a"
  },
  {
   "metadata": {},
   "cell_type": "code",
   "outputs": [],
   "execution_count": null,
   "source": [
    "# 为了更加细致的看一下模型在哪些类别上表现得更好，在哪些些类别上表现更差，我们分类别的进行准确率计算\n",
    "class_correct = list(0. for i in range(10))\n",
    "class_total = list(0. for i in range(10))\n",
    "with torch.no_grad():\n",
    "    for data in testloader:\n",
    "        images, labels = data\n",
    "        outputs = net(images)\n",
    "        _, predicted = torch.max(outputs, 1)\n",
    "        c = (predicted == labels).squeeze()\n",
    "        for i in range(4):\n",
    "            label = labels[i]\n",
    "            class_correct[label] += c[i].item()\n",
    "            class_total[label] += 1\n",
    "\n",
    "for i in range(10):\n",
    "    print('Accuracy of %5s: %2d %%' %\n",
    "          (classes[i], 100 * class_correct[i] / class_total[i]))\n"
   ],
   "id": "316113a466ae9c8c"
  }
 ],
 "metadata": {
  "kernelspec": {
   "display_name": "Python 3",
   "language": "python",
   "name": "python3"
  },
  "language_info": {
   "codemirror_mode": {
    "name": "ipython",
    "version": 2
   },
   "file_extension": ".py",
   "mimetype": "text/x-python",
   "name": "python",
   "nbconvert_exporter": "python",
   "pygments_lexer": "ipython2",
   "version": "2.7.6"
  }
 },
 "nbformat": 4,
 "nbformat_minor": 5
}
