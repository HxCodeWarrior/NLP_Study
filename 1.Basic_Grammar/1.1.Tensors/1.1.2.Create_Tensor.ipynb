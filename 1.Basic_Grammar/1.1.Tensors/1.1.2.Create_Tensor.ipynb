{
 "cells": [
  {
   "metadata": {},
   "cell_type": "markdown",
   "source": "## 创建Tensor",
   "id": "158066f6b447c8e4"
  },
  {
   "metadata": {},
   "cell_type": "markdown",
   "source": "    在接下来的内容中，我们将介绍几种常见的创建Tensor的方法。",
   "id": "e983bb716694a871"
  },
  {
   "metadata": {},
   "cell_type": "markdown",
   "source": "1.torch.empty(x, y)",
   "id": "6753a77f9c3a9b6"
  },
  {
   "metadata": {},
   "cell_type": "markdown",
   "source": "    创建一个没有初始化的矩阵",
   "id": "218228db2ba23ac3"
  },
  {
   "metadata": {},
   "cell_type": "markdown",
   "source": "2.torch.rand(x, y)",
   "id": "7ebb00b1697010e8"
  },
  {
   "metadata": {},
   "cell_type": "markdown",
   "source": "    随机初始化矩阵，构造一个随机初始化的矩阵",
   "id": "a3439b2c22efbfad"
  },
  {
   "metadata": {},
   "cell_type": "markdown",
   "source": [
    "    对比有无初始化的矩阵：当申明一个未初始化的矩阵时，它本身不包含任何确切的值，当创建一\n",
    "    个未初始化的矩阵时，分配给矩阵的内存中有什么数值就赋值给了这个矩阵，本质上时毫无意义的数据。"
   ],
   "id": "ab8e2573dcf69217"
  },
  {
   "metadata": {},
   "cell_type": "markdown",
   "source": "3.torch.zeros(x, y, dtype=None)",
   "id": "993f7d28e89000f6"
  },
  {
   "metadata": {},
   "cell_type": "markdown",
   "source": [
    "    全0矩阵的构建，我们可以通过torch.zeros()构造一个矩阵全为0，并且通过dtype设置数\n",
    "    据类型为long。除此之外，我们还可以通过torch.zero_()和torch.zeros_like()将现\n",
    "    有矩阵转换为全0矩阵。"
   ],
   "id": "8c188a3856b18ea9"
  },
  {
   "metadata": {},
   "cell_type": "markdown",
   "source": "4.torch.tensor(x1, x2, x3,……)",
   "id": "b21fb66da5c54248"
  },
  {
   "metadata": {},
   "cell_type": "markdown",
   "source": "    直接使用数据，构造一个张量",
   "id": "1f1cd44591aae818"
  },
  {
   "metadata": {},
   "cell_type": "markdown",
   "source": "5.torch.rand_like()",
   "id": "133a8759e81c3162"
  },
  {
   "metadata": {},
   "cell_type": "markdown",
   "source": "    基于已经存在的Tensor，创建一个新的Tensor",
   "id": "a47f6fcdf0768255"
  },
  {
   "metadata": {},
   "cell_type": "markdown",
   "source": "## 常见的构造Tensor的方法",
   "id": "5b0465e1349e7e79"
  },
  {
   "metadata": {},
   "cell_type": "markdown",
   "source": [
    "    函数                      功能\n",
    "    Tensor(sizes)            基础构造函数\n",
    "    Tensor(data)             类似于np.array()\n",
    "    ones(sizes)              全1\n",
    "    zeros(sizes)             全0\n",
    "    eye(sizes)               对角为1，其余为0\n",
    "    arange(s, e, strp)       从s到e，步长为step\n",
    "    linspace(s, e, steps)    从s到e，均匀分成step份\n",
    "    rand/randn(sizes)        rand是[0,1)均匀分布；randn是服从N（0，1）的正态分布\n",
    "    normal(mean, std)        正态分布(均值为mean，标准差为std)\n",
    "    randperm(m)              随机排列"
   ],
   "id": "417501c9d1c1c341"
  }
 ],
 "metadata": {
  "kernelspec": {
   "display_name": "Python 3",
   "language": "python",
   "name": "python3"
  },
  "language_info": {
   "codemirror_mode": {
    "name": "ipython",
    "version": 2
   },
   "file_extension": ".py",
   "mimetype": "text/x-python",
   "name": "python",
   "nbconvert_exporter": "python",
   "pygments_lexer": "ipython2",
   "version": "2.7.6"
  }
 },
 "nbformat": 4,
 "nbformat_minor": 5
}
