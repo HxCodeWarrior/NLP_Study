{
 "cells": [
  {
   "metadata": {},
   "cell_type": "markdown",
   "source": "使用Pytorch构建一个神经网络",
   "id": "131cbc5060106183"
  },
  {
   "metadata": {},
   "cell_type": "markdown",
   "source": [
    "    目标：\n",
    "        掌握用Pytorch构建神经网络的基本流程\n",
    "        掌握用Pytorch构建神经网络的实现过程"
   ],
   "id": "eef45796f7c165d8"
  },
  {
   "metadata": {},
   "cell_type": "markdown",
   "source": [
    "    关于torch.nn：\n",
    "        使用Pytorch来构建神经网络，主要的工具都在torch.nn包中\n",
    "        torch.nn依赖于autograd来定义模型，并对其自动求导"
   ],
   "id": "8ccbc4653a3c4c91"
  },
  {
   "metadata": {},
   "cell_type": "markdown",
   "source": "## 构建神经网络的典型流程",
   "id": "56743476e82ebb70"
  },
  {
   "metadata": {},
   "cell_type": "markdown",
   "source": [
    "    定义一个拥有可学习参数的神经网络\n",
    "    遍历训练数据集\n",
    "    处理输入数据使其流经神经网络\n",
    "    计算损失值\n",
    "    以一定的规则更新网络的权重"
   ],
   "id": "3c6bc2e6e285c5d7"
  }
 ],
 "metadata": {
  "kernelspec": {
   "display_name": "Python 3",
   "language": "python",
   "name": "python3"
  },
  "language_info": {
   "codemirror_mode": {
    "name": "ipython",
    "version": 2
   },
   "file_extension": ".py",
   "mimetype": "text/x-python",
   "name": "python",
   "nbconvert_exporter": "python",
   "pygments_lexer": "ipython2",
   "version": "2.7.6"
  }
 },
 "nbformat": 4,
 "nbformat_minor": 5
}
