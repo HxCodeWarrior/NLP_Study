{
 "cells": [
  {
   "metadata": {},
   "cell_type": "markdown",
   "source": "## 分类器任务和数据介绍",
   "id": "b4d66fbf5ae809fb"
  },
  {
   "metadata": {},
   "cell_type": "markdown",
   "source": [
    "    构建一个将不同图像进行分类的神经网络分类器，对输入的图片进行判别并完成分类\n",
    "    本案例采用CIFAR10数据集作为原始图片数据"
   ],
   "id": "3825a4d25e36c9e"
  },
  {
   "metadata": {},
   "cell_type": "markdown",
   "source": [
    "    CIFAR10数据集介绍：数据集中每张图片的尺寸是3*32*32，代表彩色通道3通道,长宽均为32\n",
    "    CIFAR10数据集共有10种不同的分类，分别是：\n",
    "        airplane,automobile,bird,cat,deer,dog,frog,horse,ship,truck"
   ],
   "id": "9ba4cbca5c3cba5e"
  },
  {
   "metadata": {},
   "cell_type": "markdown",
   "source": "## 训练分类器的步骤",
   "id": "584675e7cd142979"
  },
  {
   "metadata": {},
   "cell_type": "markdown",
   "source": [
    "    1.使用torchvision下载CIFAR10数据集\n",
    "    2.定义卷积神经网络\n",
    "    3.定义损失函数\n",
    "    4.在训练集上训练数据\n",
    "    5.在测试集上测试模型"
   ],
   "id": "c1a3052047508a88"
  }
 ],
 "metadata": {
  "kernelspec": {
   "display_name": "Python 3",
   "language": "python",
   "name": "python3"
  },
  "language_info": {
   "codemirror_mode": {
    "name": "ipython",
    "version": 2
   },
   "file_extension": ".py",
   "mimetype": "text/x-python",
   "name": "python",
   "nbconvert_exporter": "python",
   "pygments_lexer": "ipython2",
   "version": "2.7.6"
  }
 },
 "nbformat": 4,
 "nbformat_minor": 5
}
