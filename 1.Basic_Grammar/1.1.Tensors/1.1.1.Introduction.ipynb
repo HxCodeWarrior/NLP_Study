{
 "cells": [
  {
   "metadata": {},
   "cell_type": "markdown",
   "source": "张量简介",
   "id": "398387fec868a0b3"
  },
  {
   "metadata": {},
   "cell_type": "markdown",
   "source": [
    "    几何代数中定义的张量是基于向量和矩阵的推广，比如我们可以将标量视为零阶张量，矢量可以\n",
    "    视为一阶张量，矩阵就是二阶张量。"
   ],
   "id": "1d4fcc9819d4035a"
  },
  {
   "metadata": {},
   "cell_type": "markdown",
   "source": [
    "    张量维度            代表含义\n",
    "\n",
    "    0维张量            代表的是标量（数字）\n",
    "    1维张量            代表的是向量\n",
    "    2维张量            代表的是矩阵\n",
    "    3维张量            时间序列数据，例如：股价、文本数据、单张彩色图片（RGB）"
   ],
   "id": "1256c73a7e50ea08"
  },
  {
   "metadata": {},
   "cell_type": "markdown",
   "source": [
    "    张量是现代机器学习的基础。它的核心是一个数据容器，多数情况下，它包含数字，有时候它也\n",
    "    包含字符串，这种情况比较少。因此可以把它想象成一个数字的水桶。"
   ],
   "id": "5dc2f3d046664c5b"
  },
  {
   "metadata": {},
   "cell_type": "markdown",
   "source": [
    "    这里有一些存储在各类张量的公用数据集类型：\n",
    "        3维 = 时间序列\n",
    "        4维 = 图像\n",
    "        5维 = 视频\n",
    "    例如：一个图像可以用三个字段表示：\n",
    "    (width, height, channel) = 3D\n",
    "    \n",
    "    但是，在机器学习工作中，我们经常要处理不止一张图片或者文档——我们要处理一个集合。我们\n",
    "    可能有10，000张郁金香的图片，这意味着，我们将用到4D张量：\n",
    "    (batch_size, width, height, channel) = 4D"
   ],
   "id": "c263ebcad529ccb3"
  },
  {
   "metadata": {},
   "cell_type": "markdown",
   "source": [
    "    在PyTorch中，torch.Tensor是存储和变化数据的主要工具。如果你之前用过Numpy，你会\n",
    "    发现Tensor和Numpy的多维数组非常类似。然而，Tensor提供GPU计算和自动求梯度等更多\n",
    "    功能，这些使Tensor这一数据类型更加适合深度学习。"
   ],
   "id": "3fa37f5c7db7e622"
  }
 ],
 "metadata": {
  "kernelspec": {
   "display_name": "Python 3",
   "language": "python",
   "name": "python3"
  },
  "language_info": {
   "codemirror_mode": {
    "name": "ipython",
    "version": 2
   },
   "file_extension": ".py",
   "mimetype": "text/x-python",
   "name": "python",
   "nbconvert_exporter": "python",
   "pygments_lexer": "ipython2",
   "version": "2.7.6"
  }
 },
 "nbformat": 4,
 "nbformat_minor": 5
}
