{
 "cells": [
  {
   "metadata": {},
   "cell_type": "markdown",
   "source": "## 自动求导",
   "id": "4297444d29740bf9"
  },
  {
   "metadata": {},
   "cell_type": "markdown",
   "source": [
    "    PyTorch中，所有神经网络的核心是autograd包。autograd包为张量上的所有操作提供了自\n",
    "    动求导机制。它是一个在运行时定义（define-by-run）的框架，这意味着反向传播是根据代\n",
    "    码如何运行来决定的，并且每次迭代可以是不同的。"
   ],
   "id": "6ed61423cd58d9d0"
  },
  {
   "metadata": {},
   "cell_type": "markdown",
   "source": [
    "    本节学习：Autograd的求导机制\n",
    "            梯度的反向传播"
   ],
   "id": "53c6a97ad2a88d61"
  },
  {
   "metadata": {},
   "cell_type": "markdown",
   "source": [
    "    torch.Tensor是这个包的核心类。如果设置了它的属性 .requires_grad为True，那么它\n",
    "    将会追踪对于该张量的所有操作。当计算完成后可以通过调用 .backward()，来自动计算所\n",
    "    有的梯度。这个张量的所有梯度会自动累加到 .grad属性。"
   ],
   "id": "149f742e14b9bd4d"
  },
  {
   "metadata": {},
   "cell_type": "markdown",
   "source": [
    "    注意：在y.backward（）时，如果y是标量，则不需要为backward（）传入任何参数；否则\n",
    "         需要传入一个与y同形的Tensor。"
   ],
   "id": "18e248635fdb2782"
  },
  {
   "metadata": {},
   "cell_type": "markdown",
   "source": [
    "    要阻止一个张量被跟踪历史，可以调用 .detach()方法将其与计算历史分离，并阻止它未来的\n",
    "    计算记录被跟踪。为了防止跟踪历史记录（和使用内存），可以将代码块包装在with \n",
    "    torch.no_grad（）：中。在评估模型时特别有用，因为模型可能具有requires_grad = \n",
    "    True 的可训练的参数，但是我们不需要在此过程中对他们进行梯度计算。"
   ],
   "id": "90f5b37c2099737c"
  },
  {
   "metadata": {},
   "cell_type": "markdown",
   "source": [
    "    还有一个类对于autograd的实现非常重要：Function。Tensor和Function互相连接生成\n",
    "    了一个无环图（acylic graph），它编码了完整的计算历史。每个张量都有一个 .grad_fn\n",
    "    属性，该属性引用了创建Tensor自身的Funtion（除非这个张量使用户手动创建的，即这个张\n",
    "    量的grad_fn是None）。下面给出的例子中，张量由用户手动创建，因此grad_fn返回结果为None"
   ],
   "id": "1db877a582ba9dd2"
  },
  {
   "metadata": {
    "ExecuteTime": {
     "end_time": "2024-07-22T14:43:41.165970Z",
     "start_time": "2024-07-22T14:43:40.091572Z"
    }
   },
   "cell_type": "code",
   "source": [
    "import torch\n",
    "x = torch.randn(3, 3, requires_grad=True)\n",
    "print(x.grad_fn)"
   ],
   "id": "d5c33e7d8725976b",
   "outputs": [
    {
     "name": "stdout",
     "output_type": "stream",
     "text": [
      "None\n"
     ]
    }
   ],
   "execution_count": 1
  },
  {
   "metadata": {},
   "cell_type": "markdown",
   "source": [
    "    如果需要计算导数，可以在Tensor上调用 .backward（）。如果Tensor是一个标量（即它\n",
    "    包含一个元素的数据），则不需要为backward（）指定任何参数，但是如果它有更多的元素，\n",
    "    则需要指定一个gradient参数，该参数是形状匹配的张量。"
   ],
   "id": "f4392dbdb0e9fd0a"
  },
  {
   "metadata": {
    "ExecuteTime": {
     "end_time": "2024-07-22T14:54:02.439078Z",
     "start_time": "2024-07-22T14:54:02.431024Z"
    }
   },
   "cell_type": "code",
   "source": [
    "# 创建一个张量，并设置requires-grad = True用来追踪其计算历史\n",
    "x = torch.ones(2, 2, requires_grad=True)\n",
    "print(x)\n",
    "# 对这个张量做一次运算\n",
    "y = x ** 2\n",
    "print(y)\n",
    "# y是计算的结果，所以它有grad_fn属性\n",
    "print(y.grad_fn)\n",
    "# 对y进行更多的操作\n",
    "z = y * y * 3\n",
    "out = z.mean()\n",
    "print(z)\n",
    "print(out)"
   ],
   "id": "a774b3076d71ec6a",
   "outputs": [
    {
     "name": "stdout",
     "output_type": "stream",
     "text": [
      "tensor([[1., 1.],\n",
      "        [1., 1.]], requires_grad=True)\n",
      "tensor([[1., 1.],\n",
      "        [1., 1.]], grad_fn=<PowBackward0>)\n",
      "<PowBackward0 object at 0x00000259BC8971F0>\n",
      "tensor([[3., 3.],\n",
      "        [3., 3.]], grad_fn=<MulBackward0>)\n",
      "tensor(3., grad_fn=<MeanBackward0>)\n"
     ]
    }
   ],
   "execution_count": 4
  },
  {
   "metadata": {},
   "cell_type": "markdown",
   "source": [
    "    .requires_grad_(...) 原地改变了现有张量的requires_grad标志。如果没有指定的话\n",
    "    ，默认输入的这个标志是 False。"
   ],
   "id": "1d2fdc2ea50fb111"
  },
  {
   "metadata": {
    "ExecuteTime": {
     "end_time": "2024-07-23T12:14:40.222729Z",
     "start_time": "2024-07-23T12:14:37.820926Z"
    }
   },
   "cell_type": "code",
   "source": [
    "import torch\n",
    "a = torch.randn(2,2)\n",
    "a = (a * 3) / (a - 1)\n",
    "print(a.requires_grad)\n",
    "a.requires_grad_(True)\n",
    "print(a.requires_grad)\n",
    "b = (a * a).sum()\n",
    "print(b.grad_fn)"
   ],
   "id": "b982f8316b6ad440",
   "outputs": [
    {
     "name": "stdout",
     "output_type": "stream",
     "text": [
      "False\n",
      "True\n",
      "<SumBackward0 object at 0x0000015551276C20>\n"
     ]
    },
    {
     "name": "stderr",
     "output_type": "stream",
     "text": [
      "\n",
      "A module that was compiled using NumPy 1.x cannot be run in\n",
      "NumPy 2.0.1 as it may crash. To support both 1.x and 2.x\n",
      "versions of NumPy, modules must be compiled with NumPy 2.0.\n",
      "Some module may need to rebuild instead e.g. with 'pybind11>=2.12'.\n",
      "\n",
      "If you are a user of the module, the easiest solution will be to\n",
      "downgrade to 'numpy<2' or try to upgrade the affected module.\n",
      "We expect that some modules will need time to support NumPy 2.\n",
      "\n",
      "Traceback (most recent call last):  File \"<frozen runpy>\", line 198, in _run_module_as_main\n",
      "  File \"<frozen runpy>\", line 88, in _run_code\n",
      "  File \"D:\\study\\AI\\NLP_Study\\Lib\\site-packages\\ipykernel_launcher.py\", line 18, in <module>\n",
      "    app.launch_new_instance()\n",
      "  File \"D:\\study\\AI\\NLP_Study\\Lib\\site-packages\\traitlets\\config\\application.py\", line 1075, in launch_instance\n",
      "    app.start()\n",
      "  File \"D:\\study\\AI\\NLP_Study\\Lib\\site-packages\\ipykernel\\kernelapp.py\", line 739, in start\n",
      "    self.io_loop.start()\n",
      "  File \"D:\\study\\AI\\NLP_Study\\Lib\\site-packages\\tornado\\platform\\asyncio.py\", line 205, in start\n",
      "    self.asyncio_loop.run_forever()\n",
      "  File \"C:\\Program Files (x86)\\Python\\Python312\\Lib\\asyncio\\base_events.py\", line 618, in run_forever\n",
      "    self._run_once()\n",
      "  File \"C:\\Program Files (x86)\\Python\\Python312\\Lib\\asyncio\\base_events.py\", line 1951, in _run_once\n",
      "    handle._run()\n",
      "  File \"C:\\Program Files (x86)\\Python\\Python312\\Lib\\asyncio\\events.py\", line 84, in _run\n",
      "    self._context.run(self._callback, *self._args)\n",
      "  File \"D:\\study\\AI\\NLP_Study\\Lib\\site-packages\\ipykernel\\kernelbase.py\", line 545, in dispatch_queue\n",
      "    await self.process_one()\n",
      "  File \"D:\\study\\AI\\NLP_Study\\Lib\\site-packages\\ipykernel\\kernelbase.py\", line 534, in process_one\n",
      "    await dispatch(*args)\n",
      "  File \"D:\\study\\AI\\NLP_Study\\Lib\\site-packages\\ipykernel\\kernelbase.py\", line 437, in dispatch_shell\n",
      "    await result\n",
      "  File \"D:\\study\\AI\\NLP_Study\\Lib\\site-packages\\ipykernel\\ipkernel.py\", line 362, in execute_request\n",
      "    await super().execute_request(stream, ident, parent)\n",
      "  File \"D:\\study\\AI\\NLP_Study\\Lib\\site-packages\\ipykernel\\kernelbase.py\", line 778, in execute_request\n",
      "    reply_content = await reply_content\n",
      "  File \"D:\\study\\AI\\NLP_Study\\Lib\\site-packages\\ipykernel\\ipkernel.py\", line 449, in do_execute\n",
      "    res = shell.run_cell(\n",
      "  File \"D:\\study\\AI\\NLP_Study\\Lib\\site-packages\\ipykernel\\zmqshell.py\", line 549, in run_cell\n",
      "    return super().run_cell(*args, **kwargs)\n",
      "  File \"D:\\study\\AI\\NLP_Study\\Lib\\site-packages\\IPython\\core\\interactiveshell.py\", line 3075, in run_cell\n",
      "    result = self._run_cell(\n",
      "  File \"D:\\study\\AI\\NLP_Study\\Lib\\site-packages\\IPython\\core\\interactiveshell.py\", line 3130, in _run_cell\n",
      "    result = runner(coro)\n",
      "  File \"D:\\study\\AI\\NLP_Study\\Lib\\site-packages\\IPython\\core\\async_helpers.py\", line 128, in _pseudo_sync_runner\n",
      "    coro.send(None)\n",
      "  File \"D:\\study\\AI\\NLP_Study\\Lib\\site-packages\\IPython\\core\\interactiveshell.py\", line 3334, in run_cell_async\n",
      "    has_raised = await self.run_ast_nodes(code_ast.body, cell_name,\n",
      "  File \"D:\\study\\AI\\NLP_Study\\Lib\\site-packages\\IPython\\core\\interactiveshell.py\", line 3517, in run_ast_nodes\n",
      "    if await self.run_code(code, result, async_=asy):\n",
      "  File \"D:\\study\\AI\\NLP_Study\\Lib\\site-packages\\IPython\\core\\interactiveshell.py\", line 3577, in run_code\n",
      "    exec(code_obj, self.user_global_ns, self.user_ns)\n",
      "  File \"C:\\Users\\张耀翔\\AppData\\Local\\Temp\\ipykernel_27348\\1287173547.py\", line 3, in <module>\n",
      "    a = (a * 3) / (a - 1)\n",
      "C:\\Users\\张耀翔\\AppData\\Local\\Temp\\ipykernel_27348\\1287173547.py:3: UserWarning: Failed to initialize NumPy: _ARRAY_API not found (Triggered internally at ..\\torch\\csrc\\utils\\tensor_numpy.cpp:84.)\n",
      "  a = (a * 3) / (a - 1)\n"
     ]
    }
   ],
   "execution_count": 2
  }
 ],
 "metadata": {
  "kernelspec": {
   "display_name": "Python 3",
   "language": "python",
   "name": "python3"
  },
  "language_info": {
   "codemirror_mode": {
    "name": "ipython",
    "version": 2
   },
   "file_extension": ".py",
   "mimetype": "text/x-python",
   "name": "python",
   "nbconvert_exporter": "python",
   "pygments_lexer": "ipython2",
   "version": "2.7.6"
  }
 },
 "nbformat": 4,
 "nbformat_minor": 5
}
