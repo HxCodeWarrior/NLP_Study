{
 "cells": [
  {
   "metadata": {},
   "cell_type": "markdown",
   "source": "## 认识文本预处理",
   "id": "c8cba8b572ad75d1"
  },
  {
   "metadata": {},
   "cell_type": "markdown",
   "source": [
    "    目标：了解什么是文本预处理及其作用\n",
    "         了解文本预处理中包含的主要环节"
   ],
   "id": "ef5fbafb7dfb69d6"
  },
  {
   "metadata": {},
   "cell_type": "markdown",
   "source": [
    "    文本预处理及其作用：\n",
    "        文本语料在输送给模型前一般需要一系列的预处理工作，才能符合模型输入的要求，\n",
    "        如：将文本转化成模型需要的张量，规范张量的尺寸等等，而科学的文本预处理环节还将\n",
    "        有效知道模型超参数的选择，提升模型的评估指标。"
   ],
   "id": "216bdda467b314f0"
  },
  {
   "metadata": {},
   "cell_type": "markdown",
   "source": "## 文本预处理中包含的主要环节",
   "id": "233e5c47fd6ca45d"
  },
  {
   "metadata": {},
   "cell_type": "markdown",
   "source": [
    "    文本处理的基本方法\n",
    "    文本张量的表示方法\n",
    "    文本预料的数据分析\n",
    "    文本特征的处理\n",
    "    数据增强方法"
   ],
   "id": "4415d17ee8f16f2e"
  },
  {
   "metadata": {},
   "cell_type": "markdown",
   "source": "## 文本处理的基本方法",
   "id": "d27e670406994ec6"
  },
  {
   "metadata": {},
   "cell_type": "markdown",
   "source": [
    "    分词\n",
    "    词性标注\n",
    "    命名实体识别"
   ],
   "id": "cce0ceacd0cbfcaa"
  },
  {
   "metadata": {},
   "cell_type": "markdown",
   "source": "## 文本张量的表示方法",
   "id": "f26e3275f144a581"
  },
  {
   "metadata": {},
   "cell_type": "markdown",
   "source": [
    "    one-hot编码\n",
    "    Word2vec\n",
    "    Word Embedding"
   ],
   "id": "c4723d9034015b70"
  },
  {
   "metadata": {},
   "cell_type": "markdown",
   "source": "## 文本语料的数据分析",
   "id": "350040428804b629"
  },
  {
   "metadata": {},
   "cell_type": "markdown",
   "source": [
    "    标签数量分布\n",
    "    句子长度分布\n",
    "    词频统计与关键词词云"
   ],
   "id": "f826270233c1c7db"
  },
  {
   "metadata": {},
   "cell_type": "markdown",
   "source": "## 文本特征处理",
   "id": "43f660bbaef1934d"
  },
  {
   "metadata": {},
   "cell_type": "markdown",
   "source": [
    "    添加n-gram特征\n",
    "    文本长度规范"
   ],
   "id": "3f1e407c22634b7e"
  },
  {
   "metadata": {},
   "cell_type": "markdown",
   "source": "## 数据增强方法",
   "id": "9508307b0daed00e"
  },
  {
   "metadata": {},
   "cell_type": "markdown",
   "source": "    回译数据增强法",
   "id": "a0eb875abd29c590"
  },
  {
   "metadata": {},
   "cell_type": "markdown",
   "source": [
    "    重要说明：\n",
    "        在实际生产应用中，我们最常使用的两种语言是中文和英文，因此文本预处理部分的内容\n",
    "        都将针对这两种语言进行讲解。"
   ],
   "id": "2673b70c667b42c0"
  }
 ],
 "metadata": {
  "kernelspec": {
   "display_name": "Python 3",
   "language": "python",
   "name": "python3"
  },
  "language_info": {
   "codemirror_mode": {
    "name": "ipython",
    "version": 2
   },
   "file_extension": ".py",
   "mimetype": "text/x-python",
   "name": "python",
   "nbconvert_exporter": "python",
   "pygments_lexer": "ipython2",
   "version": "2.7.6"
  }
 },
 "nbformat": 4,
 "nbformat_minor": 5
}
