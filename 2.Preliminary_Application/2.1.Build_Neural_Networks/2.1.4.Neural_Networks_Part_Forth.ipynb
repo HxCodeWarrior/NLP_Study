{
 "cells": [
  {
   "metadata": {},
   "cell_type": "markdown",
   "source": "## 更新网络参数",
   "id": "1bc158f3ecf4dd05"
  },
  {
   "metadata": {},
   "cell_type": "markdown",
   "source": [
    "    更新参数最简单的算法就是SGD（随机梯度下降）\n",
    "    具体的算法公式表达式为：weight = weight - learning_rate * gradient"
   ],
   "id": "c5bda12d87c4ef8"
  },
  {
   "metadata": {
    "ExecuteTime": {
     "end_time": "2024-07-23T16:37:06.260650Z",
     "start_time": "2024-07-23T16:37:06.255650Z"
    }
   },
   "cell_type": "code",
   "source": [
    "import torch\n",
    "import torch.nn as nn\n",
    "from Neural_Networks import Net\n",
    "\n",
    "net = Net()\n",
    "input = torch.randn(1, 1, 32, 32)\n",
    "target = torch.randn(10)\n",
    "target = target.view(1, -1)"
   ],
   "id": "6dbd2864bd5e37f",
   "outputs": [],
   "execution_count": 5
  },
  {
   "metadata": {},
   "cell_type": "code",
   "source": [
    "# 首先用传统的Python代码来实现SGD如下：\n",
    "learning_rate = 0.01\n",
    "for f in net.parameters():\n",
    "    f.data.sub_(f.grad.data * learning_rate)"
   ],
   "id": "56991e70bdb3b580",
   "outputs": [],
   "execution_count": null
  },
  {
   "metadata": {},
   "cell_type": "code",
   "source": [
    "# 使用Pytorch官方推荐的标准代码如下:\n",
    "# 第一步：首先导入优化器的包，optim中包含着若干常用的优化器算法，比如SGD、Adam等\n",
    "import torch.optim as optim\n",
    "\n",
    "# 第二步：通过optim创建优化器对象\n",
    "optimizer = optim.SGD(net.parameters(), lr=0.01)\n",
    "\n",
    "# 第三步：将优化器执行梯度清零的操作\n",
    "optimizer.zero_grad()\n",
    "\n",
    "# 第四步： 执行网络计算并计算损失值\n",
    "output = net(input)\n",
    "criterion = nn.MSEloss()\n",
    "loss = criterion(output, target)\n",
    "\n",
    "# 第五步：对损失值进行反向传播的操作\n",
    "loss.backward()\n",
    "\n",
    "# 第六步：参数的更新通过一行标准代码来执行\n",
    "optimizer.step()"
   ],
   "id": "56f801fa798b30af",
   "outputs": [],
   "execution_count": null
  },
  {
   "metadata": {},
   "cell_type": "code",
   "outputs": [],
   "execution_count": null,
   "source": "",
   "id": "55d2e158a6bf8cc"
  }
 ],
 "metadata": {
  "kernelspec": {
   "display_name": "Python 3",
   "language": "python",
   "name": "python3"
  },
  "language_info": {
   "codemirror_mode": {
    "name": "ipython",
    "version": 2
   },
   "file_extension": ".py",
   "mimetype": "text/x-python",
   "name": "python",
   "nbconvert_exporter": "python",
   "pygments_lexer": "ipython2",
   "version": "2.7.6"
  }
 },
 "nbformat": 4,
 "nbformat_minor": 5
}
