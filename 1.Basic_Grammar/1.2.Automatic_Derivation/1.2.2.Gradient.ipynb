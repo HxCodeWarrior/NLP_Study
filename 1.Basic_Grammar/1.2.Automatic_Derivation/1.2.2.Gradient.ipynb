{
 "cells": [
  {
   "metadata": {},
   "cell_type": "markdown",
   "source": "## 梯度",
   "id": "79f60fb805a99bcb"
  },
  {
   "metadata": {},
   "cell_type": "markdown",
   "source": [
    "    在Pytorch中，反向传播是依靠.backward（）实现的。\n",
    "    out.backward()"
   ],
   "id": "fca68c957bc5fac"
  },
  {
   "metadata": {
    "ExecuteTime": {
     "end_time": "2024-07-23T12:26:19.204606Z",
     "start_time": "2024-07-23T12:26:19.198098Z"
    }
   },
   "cell_type": "code",
   "source": [
    "import torch\n",
    "# 创建一个张量，并设置requires-grad = True用来追踪其计算历史\n",
    "x = torch.ones(2, 2, requires_grad=True)\n",
    "print(x)\n",
    "# 对这个张量做一次运算\n",
    "y = x ** 2\n",
    "print(y)\n",
    "# y是计算的结果，所以它有grad_fn属性\n",
    "print(y.grad_fn)\n",
    "# 对y进行更多的操作\n",
    "z = y * y * 3\n",
    "out = z.mean()\n",
    "print(z)\n",
    "print(out)"
   ],
   "id": "6ce98173ef325a46",
   "outputs": [
    {
     "name": "stdout",
     "output_type": "stream",
     "text": [
      "tensor([[1., 1.],\n",
      "        [1., 1.]], requires_grad=True)\n",
      "tensor([[1., 1.],\n",
      "        [1., 1.]], grad_fn=<PowBackward0>)\n",
      "<PowBackward0 object at 0x000002122958E050>\n",
      "tensor([[3., 3.],\n",
      "        [3., 3.]], grad_fn=<MulBackward0>)\n",
      "tensor(3., grad_fn=<MeanBackward0>)\n"
     ]
    }
   ],
   "execution_count": 4
  },
  {
   "metadata": {
    "ExecuteTime": {
     "end_time": "2024-07-23T12:26:21.744726Z",
     "start_time": "2024-07-23T12:26:21.739694Z"
    }
   },
   "cell_type": "code",
   "source": [
    "out.backward()\n",
    "print(x.grad)"
   ],
   "id": "ea1e41c9e1df64e8",
   "outputs": [
    {
     "name": "stdout",
     "output_type": "stream",
     "text": [
      "tensor([[3., 3.],\n",
      "        [3., 3.]])\n"
     ]
    }
   ],
   "execution_count": 5
  },
  {
   "metadata": {},
   "cell_type": "markdown",
   "source": [
    "    关于自动求导的属性设置：可以通过设置 .requires_grad=True来执行自动求导，也可以通\n",
    "    过迭代码块的限制来停止自动求导。"
   ],
   "id": "6e185a678d5626d3"
  },
  {
   "metadata": {
    "ExecuteTime": {
     "end_time": "2024-07-23T12:28:43.616828Z",
     "start_time": "2024-07-23T12:28:43.611588Z"
    }
   },
   "cell_type": "code",
   "source": [
    "print(x.requires_grad)\n",
    "print((x ** 2).requires_grad)\n",
    "\n",
    "# 通过代码块终止求导\n",
    "with torch.no_grad():\n",
    "    print((x ** 2).requires_grad)"
   ],
   "id": "f2b726b4f4b117e8",
   "outputs": [
    {
     "name": "stdout",
     "output_type": "stream",
     "text": [
      "True\n",
      "True\n",
      "False\n"
     ]
    }
   ],
   "execution_count": 6
  },
  {
   "metadata": {},
   "cell_type": "markdown",
   "source": "    可以通过 .detach()获得一个新的Tensor，拥有相同的内容但不需要自动求导",
   "id": "3bf65be23cd39fb5"
  },
  {
   "metadata": {
    "ExecuteTime": {
     "end_time": "2024-07-23T12:31:31.645854Z",
     "start_time": "2024-07-23T12:31:31.631525Z"
    }
   },
   "cell_type": "code",
   "source": [
    "print(x.requires_grad)\n",
    "y = x.detach()\n",
    "print(y.requires_grad)\n",
    "print(x.eq(y).all())"
   ],
   "id": "1ae48ac059ac483",
   "outputs": [
    {
     "name": "stdout",
     "output_type": "stream",
     "text": [
      "True\n",
      "False\n",
      "tensor(True)\n"
     ]
    }
   ],
   "execution_count": 7
  },
  {
   "metadata": {},
   "cell_type": "code",
   "outputs": [],
   "execution_count": null,
   "source": "",
   "id": "d757788d6dffc152"
  }
 ],
 "metadata": {
  "kernelspec": {
   "display_name": "Python 3",
   "language": "python",
   "name": "python3"
  },
  "language_info": {
   "codemirror_mode": {
    "name": "ipython",
    "version": 2
   },
   "file_extension": ".py",
   "mimetype": "text/x-python",
   "name": "python",
   "nbconvert_exporter": "python",
   "pygments_lexer": "ipython2",
   "version": "2.7.6"
  }
 },
 "nbformat": 4,
 "nbformat_minor": 5
}
