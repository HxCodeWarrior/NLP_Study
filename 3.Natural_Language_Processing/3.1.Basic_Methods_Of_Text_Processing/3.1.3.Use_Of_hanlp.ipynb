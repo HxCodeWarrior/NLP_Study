{
 "cells": [
  {
   "metadata": {},
   "cell_type": "markdown",
   "source": "## 流行中英文分词工具hanlp",
   "id": "2c6e43774a647ad2"
  },
  {
   "metadata": {},
   "cell_type": "markdown",
   "source": "    中英文NLP处理工具包，基于tensorflow2.0，使用在学术界和行业中推广最先进的深度学习技术",
   "id": "bbd5a3f8492b0787"
  },
  {
   "metadata": {},
   "cell_type": "markdown",
   "source": "    hanlp的安装：pip install hanlp",
   "id": "34cbe19e2667e042"
  },
  {
   "metadata": {},
   "cell_type": "code",
   "source": [
    "# 使用hanlp进行中文分词\n",
    "import hanlp\n",
    "\n",
    "# 加载CTB_CONVSEG预训练模型进行分词任务\n",
    "tokenizer = hanlp.load('CTB6_CONVSEG')\n",
    "result = tokenizer(\"工信处女干事每月经过下属科室都要亲口交代24口交换机等技术性器件地安装工作\")\n",
    "print(result)"
   ],
   "id": "90df57d9f6e98f4c",
   "outputs": [],
   "execution_count": null
  },
  {
   "metadata": {},
   "cell_type": "code",
   "source": [
    "# 使用hanlp进行英文分词\n",
    "import hanlp\n",
    "\n",
    "# 加载CTB_CONVSEG预训练模型进行分词任务\n",
    "tokenizer = hanlp.utils.rules.tokenize_english\n",
    "result = tokenizer(\"The female officers of the Ministry of Industry and Information Technology have to personally explain the installation of technical devices such as 24-port switches through subordinate departments every month\")\n",
    "print(result)"
   ],
   "id": "5b7686a0913304c7",
   "outputs": [],
   "execution_count": null
  },
  {
   "metadata": {},
   "cell_type": "code",
   "outputs": [],
   "execution_count": null,
   "source": "",
   "id": "10750eb366a9da21"
  }
 ],
 "metadata": {
  "kernelspec": {
   "display_name": "Python 3",
   "language": "python",
   "name": "python3"
  },
  "language_info": {
   "codemirror_mode": {
    "name": "ipython",
    "version": 2
   },
   "file_extension": ".py",
   "mimetype": "text/x-python",
   "name": "python",
   "nbconvert_exporter": "python",
   "pygments_lexer": "ipython2",
   "version": "2.7.6"
  }
 },
 "nbformat": 4,
 "nbformat_minor": 5
}
